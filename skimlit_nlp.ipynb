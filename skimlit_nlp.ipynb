{
 "cells": [
  {
   "cell_type": "markdown",
   "metadata": {
    "id": "rT-JEKO2Nz84"
   },
   "source": [
    "## Project Statement 📄 : -\n",
    "Model takes an abstract of any Reseach Paper and convert it into easily readable format by classifying and formating sequences of the abstract into five categories.\n",
    "\n",
    "  1)Background 2)Objactives 3)Method 4)Conclusion 5) Result\n",
    "\n",
    "## Benefit/Use case 🪴: -\n",
    "This can help Applied Researchers/Students to go through abstract of different research papers quickly to get breif idea of it.\n",
    "\n",
    "## Method 📜: -\n",
    "Replicated the deep learning model mentioned in paper : [Deep Learning Model for joint sentence classification in medical paper abstracts.](https://arxiv.org/abs/1710.06071)\n",
    "\n",
    "## Dataset 📚: -\n",
    "\n",
    "Data taken from : [PubMed 200k RCT: a Dataset for Sequenctial Sentence Classification in Medical Abstracts.](https://arxiv.org/abs/1710.06071) \n",
    "\n",
    "\n",
    "## Experiment 🧪: -\n",
    "Total 5 Experiments is implemented which are list below: -\n",
    "\n",
    "1) model 0: Baseline model - TFIDF + Naive Bayes\n",
    "\n",
    "2) model 1: custom token embeddings (TensorFlow Embedding Layer)\n",
    "\n",
    "3) model 2: pretrained token embeddings (Universal Sentence Encoder, TensorFlow-hub)\n",
    "\n",
    "4) model 3: custom Character embeddings (TensorFlow Embedding Layer)\n",
    "\n",
    "5) model 4: Multi-input model (Token + Character Embedding)\n",
    "\n",
    "6) model 5: Multi-input model (Positional Embedding + Token-char Embedding)\n"
   ]
  },
  {
   "cell_type": "code",
   "execution_count": 1,
   "metadata": {
    "colab": {
     "base_uri": "https://localhost:8080/"
    },
    "id": "9zrEBTD33V11",
    "outputId": "9cc77edb-9c44-4cc0-bcc8-d58cfb5ec214"
   },
   "outputs": [
    {
     "name": "stdout",
     "output_type": "stream",
     "text": [
      "GPU 0: Tesla T4 (UUID: GPU-7156c839-5899-147a-060d-d572ccd1bb9d)\n"
     ]
    }
   ],
   "source": [
    "!nvidia-smi -L"
   ]
  },
  {
   "cell_type": "markdown",
   "metadata": {
    "id": "niqprZoj3wak"
   },
   "source": [
    "# Get the data\n",
    "\n",
    "Data from the authors GitHub: https://github.com/Franck-Dernoncourt/pubmed-rct"
   ]
  },
  {
   "cell_type": "code",
   "execution_count": 2,
   "metadata": {
    "colab": {
     "base_uri": "https://localhost:8080/"
    },
    "id": "Tar69mc23zxj",
    "outputId": "0c6c1785-3b0b-4450-a8ee-48e68f5652e7"
   },
   "outputs": [
    {
     "name": "stdout",
     "output_type": "stream",
     "text": [
      "Cloning into 'pubmed-rct'...\n",
      "remote: Enumerating objects: 33, done.\u001b[K\n",
      "remote: Counting objects: 100% (8/8), done.\u001b[K\n",
      "remote: Compressing objects: 100% (3/3), done.\u001b[K\n",
      "remote: Total 33 (delta 5), reused 5 (delta 5), pack-reused 25\u001b[K\n",
      "Unpacking objects: 100% (33/33), done.\n",
      "Checking out files: 100% (13/13), done.\n",
      "PubMed_200k_RCT\n",
      "PubMed_200k_RCT_numbers_replaced_with_at_sign\n",
      "PubMed_20k_RCT\n",
      "PubMed_20k_RCT_numbers_replaced_with_at_sign\n",
      "README.md\n"
     ]
    }
   ],
   "source": [
    "!git clone  https://github.com/Franck-Dernoncourt/pubmed-rct\n",
    "!ls pubmed-rct"
   ]
  },
  {
   "cell_type": "code",
   "execution_count": 3,
   "metadata": {
    "colab": {
     "base_uri": "https://localhost:8080/"
    },
    "id": "oawI-13J4Hbf",
    "outputId": "1efbc678-26b9-4ae7-a878-6ef288472fa8"
   },
   "outputs": [
    {
     "name": "stdout",
     "output_type": "stream",
     "text": [
      "dev.txt  test.txt  train.txt\n"
     ]
    }
   ],
   "source": [
    "!ls pubmed-rct/PubMed_20k_RCT_numbers_replaced_with_at_sign"
   ]
  },
  {
   "cell_type": "code",
   "execution_count": 4,
   "metadata": {
    "id": "mdYQNo3i0Prb"
   },
   "outputs": [],
   "source": [
    "data_dir = '/content/pubmed-rct/PubMed_20k_RCT_numbers_replaced_with_at_sign/'"
   ]
  },
  {
   "cell_type": "code",
   "execution_count": 5,
   "metadata": {
    "colab": {
     "base_uri": "https://localhost:8080/"
    },
    "id": "vNVsJpwA0WYV",
    "outputId": "58396b46-1bdd-4712-d973-f76dd77e55a4"
   },
   "outputs": [
    {
     "data": {
      "text/plain": [
       "['/content/pubmed-rct/PubMed_20k_RCT_numbers_replaced_with_at_sign/train.txt',\n",
       " '/content/pubmed-rct/PubMed_20k_RCT_numbers_replaced_with_at_sign/dev.txt',\n",
       " '/content/pubmed-rct/PubMed_20k_RCT_numbers_replaced_with_at_sign/test.txt']"
      ]
     },
     "execution_count": 5,
     "metadata": {},
     "output_type": "execute_result"
    }
   ],
   "source": [
    "import os \n",
    "\n",
    "filenames = [data_dir+filename for filename in os.listdir(data_dir)]\n",
    "filenames"
   ]
  },
  {
   "cell_type": "markdown",
   "metadata": {
    "id": "WERI8at81M9m"
   },
   "source": [
    "## Preprocess Data "
   ]
  },
  {
   "cell_type": "code",
   "execution_count": 6,
   "metadata": {
    "id": "9JPdVg5b0al5"
   },
   "outputs": [],
   "source": [
    "# Create function to read the lines of a document\n",
    "def get_lines(filename):\n",
    "  \"\"\"\n",
    "  Reads filename (a text filename) and returns the lines of text as a list.\n",
    "\n",
    "  Args:\n",
    "    filename: a string containing the target filepath.\n",
    "\n",
    "  Returns:\n",
    "    A list of strings with one string per line from the target filename.\n",
    "  \"\"\"\n",
    "  with open(filename, \"r\") as f:\n",
    "    return f.readlines()"
   ]
  },
  {
   "cell_type": "code",
   "execution_count": 7,
   "metadata": {
    "colab": {
     "base_uri": "https://localhost:8080/"
    },
    "id": "i9HNCA_ZIlF9",
    "outputId": "b267b46a-c8f3-4941-f0e6-24e13400dad2"
   },
   "outputs": [
    {
     "data": {
      "text/plain": [
       "['###24293578\\n',\n",
       " 'OBJECTIVE\\tTo investigate the efficacy of @ weeks of daily low-dose oral prednisolone in improving pain , mobility , and systemic low-grade inflammation in the short term and whether the effect would be sustained at @ weeks in older adults with moderate to severe knee osteoarthritis ( OA ) .\\n',\n",
       " 'METHODS\\tA total of @ patients with primary knee OA were randomized @:@ ; @ received @ mg/day of prednisolone and @ received placebo for @ weeks .\\n',\n",
       " 'METHODS\\tOutcome measures included pain reduction and improvement in function scores and systemic inflammation markers .\\n',\n",
       " 'METHODS\\tPain was assessed using the visual analog pain scale ( @-@ mm ) .\\n',\n",
       " 'METHODS\\tSecondary outcome measures included the Western Ontario and McMaster Universities Osteoarthritis Index scores , patient global assessment ( PGA ) of the severity of knee OA , and @-min walk distance ( @MWD ) .\\n',\n",
       " 'METHODS\\tSerum levels of interleukin @ ( IL-@ ) , IL-@ , tumor necrosis factor ( TNF ) - , and high-sensitivity C-reactive protein ( hsCRP ) were measured .\\n',\n",
       " 'RESULTS\\tThere was a clinically relevant reduction in the intervention group compared to the placebo group for knee pain , physical function , PGA , and @MWD at @ weeks .\\n',\n",
       " 'RESULTS\\tThe mean difference between treatment arms ( @ % CI ) was @ ( @-@ @ ) , p < @ ; @ ( @-@ @ ) , p < @ ; @ ( @-@ @ ) , p < @ ; and @ ( @-@ @ ) , p < @ , respectively .\\n',\n",
       " 'RESULTS\\tFurther , there was a clinically relevant reduction in the serum levels of IL-@ , IL-@ , TNF - , and hsCRP at @ weeks in the intervention group when compared to the placebo group .\\n',\n",
       " 'RESULTS\\tThese differences remained significant at @ weeks .\\n',\n",
       " 'RESULTS\\tThe Outcome Measures in Rheumatology Clinical Trials-Osteoarthritis Research Society International responder rate was @ % in the intervention group and @ % in the placebo group ( p < @ ) .\\n',\n",
       " 'CONCLUSIONS\\tLow-dose oral prednisolone had both a short-term and a longer sustained effect resulting in less knee pain , better physical function , and attenuation of systemic inflammation in older patients with knee OA ( ClinicalTrials.gov identifier NCT@ ) .\\n',\n",
       " '\\n',\n",
       " '###24854809\\n',\n",
       " 'BACKGROUND\\tEmotional eating is associated with overeating and the development of obesity .\\n',\n",
       " 'BACKGROUND\\tYet , empirical evidence for individual ( trait ) differences in emotional eating and cognitive mechanisms that contribute to eating during sad mood remain equivocal .\\n',\n",
       " 'OBJECTIVE\\tThe aim of this study was to test if attention bias for food moderates the effect of self-reported emotional eating during sad mood ( vs neutral mood ) on actual food intake .\\n',\n",
       " 'OBJECTIVE\\tIt was expected that emotional eating is predictive of elevated attention for food and higher food intake after an experimentally induced sad mood and that attentional maintenance on food predicts food intake during a sad versus a neutral mood .\\n',\n",
       " 'METHODS\\tParticipants ( N = @ ) were randomly assigned to one of the two experimental mood induction conditions ( sad/neutral ) .\\n',\n",
       " 'METHODS\\tAttentional biases for high caloric foods were measured by eye tracking during a visual probe task with pictorial food and neutral stimuli .\\n',\n",
       " 'METHODS\\tSelf-reported emotional eating was assessed with the Dutch Eating Behavior Questionnaire ( DEBQ ) and ad libitum food intake was tested by a disguised food offer .\\n',\n",
       " 'RESULTS\\tHierarchical multivariate regression modeling showed that self-reported emotional eating did not account for changes in attention allocation for food or food intake in either condition .\\n',\n",
       " 'RESULTS\\tYet , attention maintenance on food cues was significantly related to increased intake specifically in the neutral condition , but not in the sad mood condition .\\n',\n",
       " 'CONCLUSIONS\\tThe current findings show that self-reported emotional eating ( based on the DEBQ ) might not validly predict who overeats when sad , at least not in a laboratory setting with healthy women .\\n',\n",
       " 'CONCLUSIONS\\tResults further suggest that attention maintenance on food relates to eating motivation when in a neutral affective state , and might therefore be a cognitive mechanism contributing to increased food intake in general , but maybe not during sad mood .\\n',\n",
       " '\\n']"
      ]
     },
     "execution_count": 7,
     "metadata": {},
     "output_type": "execute_result"
    }
   ],
   "source": [
    "# Let's read in the training lines\n",
    "train_lines = get_lines(data_dir+\"train.txt\") # read the lines with the training file\n",
    "train_lines[:27]"
   ]
  },
  {
   "cell_type": "code",
   "execution_count": 8,
   "metadata": {
    "id": "NNGFuSSYIyJv"
   },
   "outputs": [],
   "source": [
    "def create_structure(abstract):\n",
    "  \n",
    "  _ = [abstract.remove(i) for i in abstract if i.startswith('###')]\n",
    "\n",
    "  data = abstract.pop(0)\n",
    "  total_lines = len(abstract) -1\n",
    "\n",
    "  num = 0\n",
    "  final_list = []\n",
    "\n",
    "  while data != '\\n':\n",
    "    \n",
    "    data_dict = {}\n",
    "    if '\\t' in data:\n",
    "      data_elements = data.split('\\t')\n",
    "      \n",
    "      data_dict['line_number'] = num\n",
    "      data_dict['target'] = data_elements[0]\n",
    "      data_dict['text'] = data_elements[1][:-2]\n",
    "      data_dict['total_lines'] = total_lines\n",
    "      \n",
    "      final_list.append(data_dict)\n",
    "      num += 1\n",
    "    \n",
    "    else:\n",
    "      data_dict['total_lines'] = num\n",
    "    \n",
    "    data = abstract.pop(0)\n",
    "  return final_list\n",
    "\n",
    "\n",
    "def convert_to_dictionary(filename):\n",
    "\n",
    "  data_list = get_lines(filename)\n",
    "  abstract_in_list = []\n",
    "  full_list = []\n",
    "  for element in data_list:\n",
    "    \n",
    "    if element != '\\n':\n",
    "      abstract_in_list.append(element)\n",
    "    else:\n",
    "      abstract_in_list.append(element)\n",
    "      #print(abstract_in_list)\n",
    "      full_list.extend(create_structure(abstract_in_list))\n",
    "\n",
    "  return full_list\n",
    "\n"
   ]
  },
  {
   "cell_type": "code",
   "execution_count": 9,
   "metadata": {
    "colab": {
     "base_uri": "https://localhost:8080/"
    },
    "id": "PqRldeANKhlK",
    "outputId": "b8982c79-d2d3-4183-ca0e-4c5824f927da"
   },
   "outputs": [
    {
     "name": "stdout",
     "output_type": "stream",
     "text": [
      "180040 30135 30212\n",
      "CPU times: user 631 ms, sys: 119 ms, total: 751 ms\n",
      "Wall time: 1.13 s\n"
     ]
    }
   ],
   "source": [
    "%%time\n",
    "new_train = convert_to_dictionary(data_dir + 'train.txt')\n",
    "new_test = convert_to_dictionary(data_dir + 'test.txt')\n",
    "new_dev = convert_to_dictionary(data_dir + 'dev.txt')\n",
    "\n",
    "print(len(new_train), len(new_test), len(new_dev))"
   ]
  },
  {
   "cell_type": "code",
   "execution_count": 10,
   "metadata": {
    "colab": {
     "base_uri": "https://localhost:8080/"
    },
    "id": "i_Ju3w5p1BGr",
    "outputId": "fdce1308-be3b-4b09-d4c7-2b343d11b3de"
   },
   "outputs": [
    {
     "data": {
      "text/plain": [
       "[{'line_number': 0,\n",
       "  'target': 'OBJECTIVE',\n",
       "  'text': 'To investigate the efficacy of @ weeks of daily low-dose oral prednisolone in improving pain , mobility , and systemic low-grade inflammation in the short term and whether the effect would be sustained at @ weeks in older adults with moderate to severe knee osteoarthritis ( OA ) ',\n",
       "  'total_lines': 11},\n",
       " {'line_number': 1,\n",
       "  'target': 'METHODS',\n",
       "  'text': 'A total of @ patients with primary knee OA were randomized @:@ ; @ received @ mg/day of prednisolone and @ received placebo for @ weeks ',\n",
       "  'total_lines': 11},\n",
       " {'line_number': 2,\n",
       "  'target': 'METHODS',\n",
       "  'text': 'Outcome measures included pain reduction and improvement in function scores and systemic inflammation markers ',\n",
       "  'total_lines': 11},\n",
       " {'line_number': 3,\n",
       "  'target': 'METHODS',\n",
       "  'text': 'Pain was assessed using the visual analog pain scale ( @-@ mm ) ',\n",
       "  'total_lines': 11},\n",
       " {'line_number': 4,\n",
       "  'target': 'METHODS',\n",
       "  'text': 'Secondary outcome measures included the Western Ontario and McMaster Universities Osteoarthritis Index scores , patient global assessment ( PGA ) of the severity of knee OA , and @-min walk distance ( @MWD ) ',\n",
       "  'total_lines': 11},\n",
       " {'line_number': 5,\n",
       "  'target': 'METHODS',\n",
       "  'text': 'Serum levels of interleukin @ ( IL-@ ) , IL-@ , tumor necrosis factor ( TNF ) - , and high-sensitivity C-reactive protein ( hsCRP ) were measured ',\n",
       "  'total_lines': 11},\n",
       " {'line_number': 6,\n",
       "  'target': 'RESULTS',\n",
       "  'text': 'There was a clinically relevant reduction in the intervention group compared to the placebo group for knee pain , physical function , PGA , and @MWD at @ weeks ',\n",
       "  'total_lines': 11},\n",
       " {'line_number': 7,\n",
       "  'target': 'RESULTS',\n",
       "  'text': 'The mean difference between treatment arms ( @ % CI ) was @ ( @-@ @ ) , p < @ ; @ ( @-@ @ ) , p < @ ; @ ( @-@ @ ) , p < @ ; and @ ( @-@ @ ) , p < @ , respectively ',\n",
       "  'total_lines': 11},\n",
       " {'line_number': 8,\n",
       "  'target': 'RESULTS',\n",
       "  'text': 'Further , there was a clinically relevant reduction in the serum levels of IL-@ , IL-@ , TNF - , and hsCRP at @ weeks in the intervention group when compared to the placebo group ',\n",
       "  'total_lines': 11},\n",
       " {'line_number': 9,\n",
       "  'target': 'RESULTS',\n",
       "  'text': 'These differences remained significant at @ weeks ',\n",
       "  'total_lines': 11},\n",
       " {'line_number': 10,\n",
       "  'target': 'RESULTS',\n",
       "  'text': 'The Outcome Measures in Rheumatology Clinical Trials-Osteoarthritis Research Society International responder rate was @ % in the intervention group and @ % in the placebo group ( p < @ ) ',\n",
       "  'total_lines': 11},\n",
       " {'line_number': 11,\n",
       "  'target': 'CONCLUSIONS',\n",
       "  'text': 'Low-dose oral prednisolone had both a short-term and a longer sustained effect resulting in less knee pain , better physical function , and attenuation of systemic inflammation in older patients with knee OA ( ClinicalTrials.gov identifier NCT@ ) ',\n",
       "  'total_lines': 11},\n",
       " {'line_number': 0,\n",
       "  'target': 'BACKGROUND',\n",
       "  'text': 'Emotional eating is associated with overeating and the development of obesity ',\n",
       "  'total_lines': 10},\n",
       " {'line_number': 1,\n",
       "  'target': 'BACKGROUND',\n",
       "  'text': 'Yet , empirical evidence for individual ( trait ) differences in emotional eating and cognitive mechanisms that contribute to eating during sad mood remain equivocal ',\n",
       "  'total_lines': 10},\n",
       " {'line_number': 2,\n",
       "  'target': 'OBJECTIVE',\n",
       "  'text': 'The aim of this study was to test if attention bias for food moderates the effect of self-reported emotional eating during sad mood ( vs neutral mood ) on actual food intake ',\n",
       "  'total_lines': 10},\n",
       " {'line_number': 3,\n",
       "  'target': 'OBJECTIVE',\n",
       "  'text': 'It was expected that emotional eating is predictive of elevated attention for food and higher food intake after an experimentally induced sad mood and that attentional maintenance on food predicts food intake during a sad versus a neutral mood ',\n",
       "  'total_lines': 10},\n",
       " {'line_number': 4,\n",
       "  'target': 'METHODS',\n",
       "  'text': 'Participants ( N = @ ) were randomly assigned to one of the two experimental mood induction conditions ( sad/neutral ) ',\n",
       "  'total_lines': 10},\n",
       " {'line_number': 5,\n",
       "  'target': 'METHODS',\n",
       "  'text': 'Attentional biases for high caloric foods were measured by eye tracking during a visual probe task with pictorial food and neutral stimuli ',\n",
       "  'total_lines': 10},\n",
       " {'line_number': 6,\n",
       "  'target': 'METHODS',\n",
       "  'text': 'Self-reported emotional eating was assessed with the Dutch Eating Behavior Questionnaire ( DEBQ ) and ad libitum food intake was tested by a disguised food offer ',\n",
       "  'total_lines': 10},\n",
       " {'line_number': 7,\n",
       "  'target': 'RESULTS',\n",
       "  'text': 'Hierarchical multivariate regression modeling showed that self-reported emotional eating did not account for changes in attention allocation for food or food intake in either condition ',\n",
       "  'total_lines': 10},\n",
       " {'line_number': 8,\n",
       "  'target': 'RESULTS',\n",
       "  'text': 'Yet , attention maintenance on food cues was significantly related to increased intake specifically in the neutral condition , but not in the sad mood condition ',\n",
       "  'total_lines': 10},\n",
       " {'line_number': 9,\n",
       "  'target': 'CONCLUSIONS',\n",
       "  'text': 'The current findings show that self-reported emotional eating ( based on the DEBQ ) might not validly predict who overeats when sad , at least not in a laboratory setting with healthy women ',\n",
       "  'total_lines': 10},\n",
       " {'line_number': 10,\n",
       "  'target': 'CONCLUSIONS',\n",
       "  'text': 'Results further suggest that attention maintenance on food relates to eating motivation when in a neutral affective state , and might therefore be a cognitive mechanism contributing to increased food intake in general , but maybe not during sad mood ',\n",
       "  'total_lines': 10},\n",
       " {'line_number': 0,\n",
       "  'target': 'BACKGROUND',\n",
       "  'text': 'Although working smoke alarms halve deaths in residential fires , many households do not keep alarms operational ',\n",
       "  'total_lines': 14}]"
      ]
     },
     "execution_count": 10,
     "metadata": {},
     "output_type": "execute_result"
    }
   ],
   "source": [
    "new_train[:24]"
   ]
  },
  {
   "cell_type": "code",
   "execution_count": 11,
   "metadata": {
    "colab": {
     "base_uri": "https://localhost:8080/",
     "height": 520
    },
    "id": "Tdf-mC0h1C4N",
    "outputId": "85614dd1-a12d-4e71-a5a1-f0a743966b28"
   },
   "outputs": [
    {
     "data": {
      "text/html": [
       "\n",
       "  <div id=\"df-1b0db096-d1a3-41ad-b365-83d3960146b8\">\n",
       "    <div class=\"colab-df-container\">\n",
       "      <div>\n",
       "<style scoped>\n",
       "    .dataframe tbody tr th:only-of-type {\n",
       "        vertical-align: middle;\n",
       "    }\n",
       "\n",
       "    .dataframe tbody tr th {\n",
       "        vertical-align: top;\n",
       "    }\n",
       "\n",
       "    .dataframe thead th {\n",
       "        text-align: right;\n",
       "    }\n",
       "</style>\n",
       "<table border=\"1\" class=\"dataframe\">\n",
       "  <thead>\n",
       "    <tr style=\"text-align: right;\">\n",
       "      <th></th>\n",
       "      <th>line_number</th>\n",
       "      <th>target</th>\n",
       "      <th>text</th>\n",
       "      <th>total_lines</th>\n",
       "    </tr>\n",
       "  </thead>\n",
       "  <tbody>\n",
       "    <tr>\n",
       "      <th>0</th>\n",
       "      <td>0</td>\n",
       "      <td>OBJECTIVE</td>\n",
       "      <td>To investigate the efficacy of @ weeks of dail...</td>\n",
       "      <td>11</td>\n",
       "    </tr>\n",
       "    <tr>\n",
       "      <th>1</th>\n",
       "      <td>1</td>\n",
       "      <td>METHODS</td>\n",
       "      <td>A total of @ patients with primary knee OA wer...</td>\n",
       "      <td>11</td>\n",
       "    </tr>\n",
       "    <tr>\n",
       "      <th>2</th>\n",
       "      <td>2</td>\n",
       "      <td>METHODS</td>\n",
       "      <td>Outcome measures included pain reduction and i...</td>\n",
       "      <td>11</td>\n",
       "    </tr>\n",
       "    <tr>\n",
       "      <th>3</th>\n",
       "      <td>3</td>\n",
       "      <td>METHODS</td>\n",
       "      <td>Pain was assessed using the visual analog pain...</td>\n",
       "      <td>11</td>\n",
       "    </tr>\n",
       "    <tr>\n",
       "      <th>4</th>\n",
       "      <td>4</td>\n",
       "      <td>METHODS</td>\n",
       "      <td>Secondary outcome measures included the Wester...</td>\n",
       "      <td>11</td>\n",
       "    </tr>\n",
       "    <tr>\n",
       "      <th>5</th>\n",
       "      <td>5</td>\n",
       "      <td>METHODS</td>\n",
       "      <td>Serum levels of interleukin @ ( IL-@ ) , IL-@ ...</td>\n",
       "      <td>11</td>\n",
       "    </tr>\n",
       "    <tr>\n",
       "      <th>6</th>\n",
       "      <td>6</td>\n",
       "      <td>RESULTS</td>\n",
       "      <td>There was a clinically relevant reduction in t...</td>\n",
       "      <td>11</td>\n",
       "    </tr>\n",
       "    <tr>\n",
       "      <th>7</th>\n",
       "      <td>7</td>\n",
       "      <td>RESULTS</td>\n",
       "      <td>The mean difference between treatment arms ( @...</td>\n",
       "      <td>11</td>\n",
       "    </tr>\n",
       "    <tr>\n",
       "      <th>8</th>\n",
       "      <td>8</td>\n",
       "      <td>RESULTS</td>\n",
       "      <td>Further , there was a clinically relevant redu...</td>\n",
       "      <td>11</td>\n",
       "    </tr>\n",
       "    <tr>\n",
       "      <th>9</th>\n",
       "      <td>9</td>\n",
       "      <td>RESULTS</td>\n",
       "      <td>These differences remained significant at @ we...</td>\n",
       "      <td>11</td>\n",
       "    </tr>\n",
       "    <tr>\n",
       "      <th>10</th>\n",
       "      <td>10</td>\n",
       "      <td>RESULTS</td>\n",
       "      <td>The Outcome Measures in Rheumatology Clinical ...</td>\n",
       "      <td>11</td>\n",
       "    </tr>\n",
       "    <tr>\n",
       "      <th>11</th>\n",
       "      <td>11</td>\n",
       "      <td>CONCLUSIONS</td>\n",
       "      <td>Low-dose oral prednisolone had both a short-te...</td>\n",
       "      <td>11</td>\n",
       "    </tr>\n",
       "    <tr>\n",
       "      <th>12</th>\n",
       "      <td>0</td>\n",
       "      <td>BACKGROUND</td>\n",
       "      <td>Emotional eating is associated with overeating...</td>\n",
       "      <td>10</td>\n",
       "    </tr>\n",
       "    <tr>\n",
       "      <th>13</th>\n",
       "      <td>1</td>\n",
       "      <td>BACKGROUND</td>\n",
       "      <td>Yet , empirical evidence for individual ( trai...</td>\n",
       "      <td>10</td>\n",
       "    </tr>\n",
       "    <tr>\n",
       "      <th>14</th>\n",
       "      <td>2</td>\n",
       "      <td>OBJECTIVE</td>\n",
       "      <td>The aim of this study was to test if attention...</td>\n",
       "      <td>10</td>\n",
       "    </tr>\n",
       "  </tbody>\n",
       "</table>\n",
       "</div>\n",
       "      <button class=\"colab-df-convert\" onclick=\"convertToInteractive('df-1b0db096-d1a3-41ad-b365-83d3960146b8')\"\n",
       "              title=\"Convert this dataframe to an interactive table.\"\n",
       "              style=\"display:none;\">\n",
       "        \n",
       "  <svg xmlns=\"http://www.w3.org/2000/svg\" height=\"24px\"viewBox=\"0 0 24 24\"\n",
       "       width=\"24px\">\n",
       "    <path d=\"M0 0h24v24H0V0z\" fill=\"none\"/>\n",
       "    <path d=\"M18.56 5.44l.94 2.06.94-2.06 2.06-.94-2.06-.94-.94-2.06-.94 2.06-2.06.94zm-11 1L8.5 8.5l.94-2.06 2.06-.94-2.06-.94L8.5 2.5l-.94 2.06-2.06.94zm10 10l.94 2.06.94-2.06 2.06-.94-2.06-.94-.94-2.06-.94 2.06-2.06.94z\"/><path d=\"M17.41 7.96l-1.37-1.37c-.4-.4-.92-.59-1.43-.59-.52 0-1.04.2-1.43.59L10.3 9.45l-7.72 7.72c-.78.78-.78 2.05 0 2.83L4 21.41c.39.39.9.59 1.41.59.51 0 1.02-.2 1.41-.59l7.78-7.78 2.81-2.81c.8-.78.8-2.07 0-2.86zM5.41 20L4 18.59l7.72-7.72 1.47 1.35L5.41 20z\"/>\n",
       "  </svg>\n",
       "      </button>\n",
       "      \n",
       "  <style>\n",
       "    .colab-df-container {\n",
       "      display:flex;\n",
       "      flex-wrap:wrap;\n",
       "      gap: 12px;\n",
       "    }\n",
       "\n",
       "    .colab-df-convert {\n",
       "      background-color: #E8F0FE;\n",
       "      border: none;\n",
       "      border-radius: 50%;\n",
       "      cursor: pointer;\n",
       "      display: none;\n",
       "      fill: #1967D2;\n",
       "      height: 32px;\n",
       "      padding: 0 0 0 0;\n",
       "      width: 32px;\n",
       "    }\n",
       "\n",
       "    .colab-df-convert:hover {\n",
       "      background-color: #E2EBFA;\n",
       "      box-shadow: 0px 1px 2px rgba(60, 64, 67, 0.3), 0px 1px 3px 1px rgba(60, 64, 67, 0.15);\n",
       "      fill: #174EA6;\n",
       "    }\n",
       "\n",
       "    [theme=dark] .colab-df-convert {\n",
       "      background-color: #3B4455;\n",
       "      fill: #D2E3FC;\n",
       "    }\n",
       "\n",
       "    [theme=dark] .colab-df-convert:hover {\n",
       "      background-color: #434B5C;\n",
       "      box-shadow: 0px 1px 3px 1px rgba(0, 0, 0, 0.15);\n",
       "      filter: drop-shadow(0px 1px 2px rgba(0, 0, 0, 0.3));\n",
       "      fill: #FFFFFF;\n",
       "    }\n",
       "  </style>\n",
       "\n",
       "      <script>\n",
       "        const buttonEl =\n",
       "          document.querySelector('#df-1b0db096-d1a3-41ad-b365-83d3960146b8 button.colab-df-convert');\n",
       "        buttonEl.style.display =\n",
       "          google.colab.kernel.accessAllowed ? 'block' : 'none';\n",
       "\n",
       "        async function convertToInteractive(key) {\n",
       "          const element = document.querySelector('#df-1b0db096-d1a3-41ad-b365-83d3960146b8');\n",
       "          const dataTable =\n",
       "            await google.colab.kernel.invokeFunction('convertToInteractive',\n",
       "                                                     [key], {});\n",
       "          if (!dataTable) return;\n",
       "\n",
       "          const docLinkHtml = 'Like what you see? Visit the ' +\n",
       "            '<a target=\"_blank\" href=https://colab.research.google.com/notebooks/data_table.ipynb>data table notebook</a>'\n",
       "            + ' to learn more about interactive tables.';\n",
       "          element.innerHTML = '';\n",
       "          dataTable['output_type'] = 'display_data';\n",
       "          await google.colab.output.renderOutput(dataTable, element);\n",
       "          const docLink = document.createElement('div');\n",
       "          docLink.innerHTML = docLinkHtml;\n",
       "          element.appendChild(docLink);\n",
       "        }\n",
       "      </script>\n",
       "    </div>\n",
       "  </div>\n",
       "  "
      ],
      "text/plain": [
       "    line_number       target  \\\n",
       "0             0    OBJECTIVE   \n",
       "1             1      METHODS   \n",
       "2             2      METHODS   \n",
       "3             3      METHODS   \n",
       "4             4      METHODS   \n",
       "5             5      METHODS   \n",
       "6             6      RESULTS   \n",
       "7             7      RESULTS   \n",
       "8             8      RESULTS   \n",
       "9             9      RESULTS   \n",
       "10           10      RESULTS   \n",
       "11           11  CONCLUSIONS   \n",
       "12            0   BACKGROUND   \n",
       "13            1   BACKGROUND   \n",
       "14            2    OBJECTIVE   \n",
       "\n",
       "                                                 text  total_lines  \n",
       "0   To investigate the efficacy of @ weeks of dail...           11  \n",
       "1   A total of @ patients with primary knee OA wer...           11  \n",
       "2   Outcome measures included pain reduction and i...           11  \n",
       "3   Pain was assessed using the visual analog pain...           11  \n",
       "4   Secondary outcome measures included the Wester...           11  \n",
       "5   Serum levels of interleukin @ ( IL-@ ) , IL-@ ...           11  \n",
       "6   There was a clinically relevant reduction in t...           11  \n",
       "7   The mean difference between treatment arms ( @...           11  \n",
       "8   Further , there was a clinically relevant redu...           11  \n",
       "9   These differences remained significant at @ we...           11  \n",
       "10  The Outcome Measures in Rheumatology Clinical ...           11  \n",
       "11  Low-dose oral prednisolone had both a short-te...           11  \n",
       "12  Emotional eating is associated with overeating...           10  \n",
       "13  Yet , empirical evidence for individual ( trai...           10  \n",
       "14  The aim of this study was to test if attention...           10  "
      ]
     },
     "execution_count": 11,
     "metadata": {},
     "output_type": "execute_result"
    }
   ],
   "source": [
    "import pandas as pd\n",
    "\n",
    "train_df = pd.DataFrame(new_train)\n",
    "val_df = pd.DataFrame(new_dev)\n",
    "test_df = pd.DataFrame(new_test)\n",
    "\n",
    "train_df.head(15)"
   ]
  },
  {
   "cell_type": "code",
   "execution_count": 12,
   "metadata": {
    "colab": {
     "base_uri": "https://localhost:8080/"
    },
    "id": "tZbkyYdO5jOZ",
    "outputId": "20ab7f39-a6d4-4866-8b1c-619af07ff9f0"
   },
   "outputs": [
    {
     "data": {
      "text/plain": [
       "METHODS        59353\n",
       "RESULTS        57953\n",
       "CONCLUSIONS    27168\n",
       "BACKGROUND     21727\n",
       "OBJECTIVE      13839\n",
       "Name: target, dtype: int64"
      ]
     },
     "execution_count": 12,
     "metadata": {},
     "output_type": "execute_result"
    }
   ],
   "source": [
    "train_df['target'].value_counts()"
   ]
  },
  {
   "cell_type": "code",
   "execution_count": 13,
   "metadata": {
    "colab": {
     "base_uri": "https://localhost:8080/",
     "height": 284
    },
    "id": "klvJ2MT96f44",
    "outputId": "a62f2569-41b4-4fb8-f5c3-501a2f26f3c9"
   },
   "outputs": [
    {
     "data": {
      "text/plain": [
       "<matplotlib.axes._subplots.AxesSubplot at 0x7f5239f59f90>"
      ]
     },
     "execution_count": 13,
     "metadata": {},
     "output_type": "execute_result"
    },
    {
     "data": {
      "image/png": "[encoded data removed]",
      "text/plain": [
       "<Figure size 432x288 with 1 Axes>"
      ]
     },
     "metadata": {
      "needs_background": "light"
     },
     "output_type": "display_data"
    }
   ],
   "source": [
    "train_df['total_lines'].plot.hist()"
   ]
  },
  {
   "cell_type": "markdown",
   "metadata": {
    "id": "hxdIDnpA7wId"
   },
   "source": [
    "## Get list of sentences"
   ]
  },
  {
   "cell_type": "code",
   "execution_count": 14,
   "metadata": {
    "id": "oDeS-HU27WOR"
   },
   "outputs": [],
   "source": [
    "train_sentences = train_df['text'].tolist()\n",
    "val_sentences = val_df['text'].tolist()\n",
    "test_sentences = test_df['text'].tolist()"
   ]
  },
  {
   "cell_type": "code",
   "execution_count": 15,
   "metadata": {
    "colab": {
     "base_uri": "https://localhost:8080/"
    },
    "id": "G3-SsM8IKtWy",
    "outputId": "bb1b7b26-8692-4b12-fe7d-c54293d6659e"
   },
   "outputs": [
    {
     "data": {
      "text/plain": [
       "['To investigate the efficacy of @ weeks of daily low-dose oral prednisolone in improving pain , mobility , and systemic low-grade inflammation in the short term and whether the effect would be sustained at @ weeks in older adults with moderate to severe knee osteoarthritis ( OA ) ',\n",
       " 'A total of @ patients with primary knee OA were randomized @:@ ; @ received @ mg/day of prednisolone and @ received placebo for @ weeks ',\n",
       " 'Outcome measures included pain reduction and improvement in function scores and systemic inflammation markers ',\n",
       " 'Pain was assessed using the visual analog pain scale ( @-@ mm ) ',\n",
       " 'Secondary outcome measures included the Western Ontario and McMaster Universities Osteoarthritis Index scores , patient global assessment ( PGA ) of the severity of knee OA , and @-min walk distance ( @MWD ) ']"
      ]
     },
     "execution_count": 15,
     "metadata": {},
     "output_type": "execute_result"
    }
   ],
   "source": [
    "train_sentences[:5]"
   ]
  },
  {
   "cell_type": "markdown",
   "metadata": {
    "id": "x77EQTOFNXYJ"
   },
   "source": [
    "## Convert labels into numbers"
   ]
  },
  {
   "cell_type": "markdown",
   "metadata": {
    "id": "HpCEhs93PILa"
   },
   "source": [
    "### One hot encode labels\n"
   ]
  },
  {
   "cell_type": "code",
   "execution_count": 16,
   "metadata": {
    "colab": {
     "base_uri": "https://localhost:8080/"
    },
    "id": "2szYpfDhKwuU",
    "outputId": "c65b77ca-7389-43d4-f224-c07716b93e37"
   },
   "outputs": [
    {
     "data": {
      "text/plain": [
       "array([[0., 0., 0., 1., 0.],\n",
       "       [0., 0., 1., 0., 0.],\n",
       "       [0., 0., 1., 0., 0.],\n",
       "       ...,\n",
       "       [0., 0., 0., 0., 1.],\n",
       "       [0., 1., 0., 0., 0.],\n",
       "       [0., 1., 0., 0., 0.]])"
      ]
     },
     "execution_count": 16,
     "metadata": {},
     "output_type": "execute_result"
    }
   ],
   "source": [
    "from sklearn.preprocessing import OneHotEncoder\n",
    "one_hot_encoder = OneHotEncoder(sparse=False)\n",
    "train_labels_one_hot = one_hot_encoder.fit_transform(train_df['target'].to_numpy().reshape(-1,1))\n",
    "val_labels_one_hot = one_hot_encoder.transform(val_df['target'].to_numpy().reshape(-1,1))\n",
    "test_labels_one_hot = one_hot_encoder.transform(test_df['target'].to_numpy().reshape(-1,1))\n",
    "\n",
    "train_labels_one_hot"
   ]
  },
  {
   "cell_type": "markdown",
   "metadata": {
    "id": "nWRPOBqPPLC-"
   },
   "source": [
    "### Encode labels using LabelEncoder"
   ]
  },
  {
   "cell_type": "code",
   "execution_count": 17,
   "metadata": {
    "id": "_LVpU3Q5OaQr"
   },
   "outputs": [],
   "source": [
    "from sklearn.preprocessing import LabelEncoder\n",
    "label_encoder = LabelEncoder()\n",
    "\n",
    "train_labels_encoded = label_encoder.fit_transform(train_df['target'].to_numpy())\n",
    "val_labels_encoded = label_encoder.transform(val_df['target'].to_numpy())\n",
    "test_labels_encoded = label_encoder.transform(test_df['target'].to_numpy())"
   ]
  },
  {
   "cell_type": "code",
   "execution_count": 18,
   "metadata": {
    "colab": {
     "base_uri": "https://localhost:8080/"
    },
    "id": "HtjB2CkPPn32",
    "outputId": "4812406a-c274-4726-8150-37f048b2af6f"
   },
   "outputs": [
    {
     "data": {
      "text/plain": [
       "(5, array(['BACKGROUND', 'CONCLUSIONS', 'METHODS', 'OBJECTIVE', 'RESULTS'],\n",
       "       dtype=object))"
      ]
     },
     "execution_count": 18,
     "metadata": {},
     "output_type": "execute_result"
    }
   ],
   "source": [
    "# Get classes names and number of classes from LabelEncoder\n",
    "\n",
    "num_classes = len(label_encoder.classes_)\n",
    "class_names = label_encoder.classes_\n",
    "\n",
    "num_classes, class_names"
   ]
  },
  {
   "cell_type": "markdown",
   "metadata": {
    "id": "Z60I_2WISgBr"
   },
   "source": [
    "##Model0: Baseline Model (TF-IDF and Naive Bayes)"
   ]
  },
  {
   "cell_type": "code",
   "execution_count": 19,
   "metadata": {
    "colab": {
     "base_uri": "https://localhost:8080/"
    },
    "id": "yJS7qsbNQU7j",
    "outputId": "ab3af0aa-300c-4114-b661-8126b5228ed5"
   },
   "outputs": [
    {
     "data": {
      "text/plain": [
       "Pipeline(steps=[('tfidf', TfidfVectorizer(max_features=10000)),\n",
       "                ('nb', MultinomialNB())])"
      ]
     },
     "execution_count": 19,
     "metadata": {},
     "output_type": "execute_result"
    }
   ],
   "source": [
    "from sklearn.feature_extraction.text import TfidfVectorizer\n",
    "from sklearn.naive_bayes import MultinomialNB\n",
    "from sklearn.pipeline import Pipeline\n",
    "\n",
    "pipe = Pipeline([\n",
    "    ('tfidf',TfidfVectorizer(max_features=10000)),\n",
    "    ('nb', MultinomialNB())\n",
    "])\n",
    "\n",
    "pipe.fit(train_sentences, train_labels_encoded)"
   ]
  },
  {
   "cell_type": "code",
   "execution_count": 20,
   "metadata": {
    "colab": {
     "base_uri": "https://localhost:8080/"
    },
    "id": "NBxLGywES83F",
    "outputId": "6e554619-2e54-446c-f457-bb9438bfc61e"
   },
   "outputs": [
    {
     "data": {
      "text/plain": [
       "0.7479809347279227"
      ]
     },
     "execution_count": 20,
     "metadata": {},
     "output_type": "execute_result"
    }
   ],
   "source": [
    "pipe.score(val_sentences, val_labels_encoded)"
   ]
  },
  {
   "cell_type": "code",
   "execution_count": 21,
   "metadata": {
    "id": "gk5b0i8KUhTS"
   },
   "outputs": [],
   "source": [
    "baseline_preds = pipe.predict(val_sentences)"
   ]
  },
  {
   "cell_type": "code",
   "execution_count": 22,
   "metadata": {
    "colab": {
     "base_uri": "https://localhost:8080/"
    },
    "id": "VQyBB3dxS10O",
    "outputId": "e5b8a5c3-f291-418b-e3ee-248ec7cbbfe1"
   },
   "outputs": [
    {
     "name": "stdout",
     "output_type": "stream",
     "text": [
      "f1_score : 0.756949144394008\n",
      "Precision : 0.7729382537249844\n",
      "Recall : 0.7479809347279227\n"
     ]
    }
   ],
   "source": [
    "from sklearn.metrics import f1_score, precision_score, recall_score\n",
    "\n",
    "print('f1_score :', f1_score(baseline_preds, val_labels_encoded, average='weighted'))\n",
    "print('Precision :', precision_score(baseline_preds, val_labels_encoded,average='weighted'))\n",
    "print('Recall :', recall_score(baseline_preds, val_labels_encoded, average='weighted'))"
   ]
  },
  {
   "cell_type": "markdown",
   "metadata": {
    "id": "Nbe8myIzhEA5"
   },
   "source": [
    "### Conv1 model\n",
    "\n",
    "**Prepare Text for Deep Sequence models**"
   ]
  },
  {
   "cell_type": "code",
   "execution_count": 23,
   "metadata": {
    "id": "1-1Jnl28hEfY"
   },
   "outputs": [],
   "source": [
    "import numpy as np\n",
    "import tensorflow as tf\n",
    "from tensorflow.keras import layers"
   ]
  },
  {
   "cell_type": "code",
   "execution_count": 24,
   "metadata": {
    "colab": {
     "base_uri": "https://localhost:8080/"
    },
    "id": "Dm2py_TGUV0u",
    "outputId": "4980045b-64ec-4c2f-fd45-390faef38665"
   },
   "outputs": [
    {
     "name": "stdout",
     "output_type": "stream",
     "text": [
      "25.34187958231504\n"
     ]
    }
   ],
   "source": [
    "#Average length of sentences\n",
    "len_sentences = [len(sentences.split()) for sentences in train_sentences]\n",
    "avg_sent_length = np.mean(len_sentences)\n",
    "print(avg_sent_length)"
   ]
  },
  {
   "cell_type": "code",
   "execution_count": 25,
   "metadata": {
    "colab": {
     "base_uri": "https://localhost:8080/",
     "height": 265
    },
    "id": "Wt0jxSYihIGk",
    "outputId": "32eeb5ac-e1a3-4440-b156-843886edfcd3"
   },
   "outputs": [
    {
     "data": {
      "image/png": "[encoded data removed]",
      "text/plain": [
       "<Figure size 432x288 with 1 Axes>"
      ]
     },
     "metadata": {
      "needs_background": "light"
     },
     "output_type": "display_data"
    }
   ],
   "source": [
    "# Distribution of sentence lengths\n",
    "import matplotlib.pyplot as plt\n",
    "\n",
    "plt.hist(len_sentences, bins=50)\n",
    "plt.show()"
   ]
  },
  {
   "cell_type": "code",
   "execution_count": 26,
   "metadata": {
    "colab": {
     "base_uri": "https://localhost:8080/"
    },
    "id": "XRfAkjGxhKWI",
    "outputId": "68420244-4601-4be0-97c2-6734300534cb"
   },
   "outputs": [
    {
     "data": {
      "text/plain": [
       "54.0"
      ]
     },
     "execution_count": 26,
     "metadata": {},
     "output_type": "execute_result"
    }
   ],
   "source": [
    "output_sequence_length = np.percentile(len_sentences, 95)\n",
    "output_sequence_length"
   ]
  },
  {
   "cell_type": "code",
   "execution_count": 27,
   "metadata": {
    "colab": {
     "base_uri": "https://localhost:8080/"
    },
    "id": "-tLiOPsXhL8Q",
    "outputId": "ea0c2654-0f24-431b-ccde-eba153975dfe"
   },
   "outputs": [
    {
     "name": "stdout",
     "output_type": "stream",
     "text": [
      "Maxmimum length of Sentence:  295\n"
     ]
    }
   ],
   "source": [
    "print('Maxmimum length of Sentence: ',max(len_sentences))"
   ]
  },
  {
   "cell_type": "markdown",
   "metadata": {
    "id": "EN3PYhsihOK_"
   },
   "source": [
    "### Create TextVectorizer Layer"
   ]
  },
  {
   "cell_type": "code",
   "execution_count": 28,
   "metadata": {
    "id": "kqPYtRoIhNk4"
   },
   "outputs": [],
   "source": [
    "max_tokens = 68000 #Mentioned in the Research Paper"
   ]
  },
  {
   "cell_type": "code",
   "execution_count": 29,
   "metadata": {
    "id": "fZNJLdoZhRHO"
   },
   "outputs": [],
   "source": [
    "from tensorflow.keras.layers import TextVectorization\n",
    "\n",
    "text_vectorizer = TextVectorization(max_tokens = max_tokens, output_sequence_length= int(output_sequence_length))"
   ]
  },
  {
   "cell_type": "code",
   "execution_count": 30,
   "metadata": {
    "id": "-pEUM-jJhSyv"
   },
   "outputs": [],
   "source": [
    "text_vectorizer.adapt(train_sentences)"
   ]
  },
  {
   "cell_type": "code",
   "execution_count": 31,
   "metadata": {
    "colab": {
     "base_uri": "https://localhost:8080/"
    },
    "id": "hxrbb5bihUQY",
    "outputId": "8e5a8c05-1911-43cb-968e-0819d9d5e91e"
   },
   "outputs": [
    {
     "name": "stdout",
     "output_type": "stream",
     "text": [
      "Text : Neuropathic pain is a condition resulting from injury to the peripheral and/or central nervous system \n",
      "Length of Sentence:  102\n",
      "Vectorized text:  tf.Tensor(\n",
      "[[4763   65   20    8  424 1486   27  503    6    2  838  727  681 3473\n",
      "   355    0    0    0    0    0    0    0    0    0    0    0    0    0\n",
      "     0    0    0    0    0    0    0    0    0    0    0    0    0    0\n",
      "     0    0    0    0    0    0    0    0    0    0    0    0]], shape=(1, 54), dtype=int64)\n"
     ]
    }
   ],
   "source": [
    "import random\n",
    "target_sentence = random.choice(train_sentences)\n",
    "\n",
    "print('Text :', target_sentence)\n",
    "print('Length of Sentence: ', len(target_sentence))\n",
    "print('Vectorized text: ', text_vectorizer([target_sentence]))"
   ]
  },
  {
   "cell_type": "code",
   "execution_count": 32,
   "metadata": {
    "colab": {
     "base_uri": "https://localhost:8080/"
    },
    "id": "3bbblaiEhvXh",
    "outputId": "09dc95b0-9035-4e4b-8086-d76d043d6312"
   },
   "outputs": [
    {
     "name": "stdout",
     "output_type": "stream",
     "text": [
      "Number of words in vocab:  64884\n",
      "Most common words in vocab:  ['', '[UNK]', 'the', 'and', 'of']\n",
      "Least common words in vocab:  ['aainduced', 'aaigroup', 'aachener', 'aachen', 'aaacp']\n"
     ]
    }
   ],
   "source": [
    "rct_text_vocab = text_vectorizer.get_vocabulary()\n",
    "\n",
    "print('Number of words in vocab: ', len(rct_text_vocab))\n",
    "print('Most common words in vocab: ', rct_text_vocab[:5])\n",
    "print('Least common words in vocab: ', rct_text_vocab[-5:])"
   ]
  },
  {
   "cell_type": "code",
   "execution_count": 33,
   "metadata": {
    "colab": {
     "base_uri": "https://localhost:8080/"
    },
    "id": "-MYQFej3ipXB",
    "outputId": "6e9b8bdc-ec92-4ce2-92cd-16f2d15abfc2"
   },
   "outputs": [
    {
     "data": {
      "text/plain": [
       "{'batch_input_shape': (None,),\n",
       " 'dtype': 'string',\n",
       " 'idf_weights': None,\n",
       " 'max_tokens': 68000,\n",
       " 'name': 'text_vectorization',\n",
       " 'ngrams': None,\n",
       " 'output_mode': 'int',\n",
       " 'output_sequence_length': 54,\n",
       " 'pad_to_max_tokens': False,\n",
       " 'ragged': False,\n",
       " 'sparse': False,\n",
       " 'split': 'whitespace',\n",
       " 'standardize': 'lower_and_strip_punctuation',\n",
       " 'trainable': True,\n",
       " 'vocabulary': None}"
      ]
     },
     "execution_count": 33,
     "metadata": {},
     "output_type": "execute_result"
    }
   ],
   "source": [
    "text_vectorizer.get_config()"
   ]
  },
  {
   "cell_type": "markdown",
   "metadata": {
    "id": "Oq6BVgHhmoYT"
   },
   "source": [
    "### Create custom Text embedding"
   ]
  },
  {
   "cell_type": "code",
   "execution_count": 34,
   "metadata": {
    "id": "OGJJGAbCmqbL"
   },
   "outputs": [],
   "source": [
    "token_embed = layers.Embedding(input_dim = len(rct_text_vocab),\n",
    "                               output_dim = 128,\n",
    "                               mask_zero = True,\n",
    "                               name = 'token_embeding')"
   ]
  },
  {
   "cell_type": "code",
   "execution_count": 35,
   "metadata": {
    "colab": {
     "base_uri": "https://localhost:8080/"
    },
    "id": "S_JhgYgXi1on",
    "outputId": "2d2688f2-bfab-4aa3-be16-c2081e5d60aa"
   },
   "outputs": [
    {
     "name": "stdout",
     "output_type": "stream",
     "text": [
      "Sentence Before Vectiorization: \n",
      " Neuropathic pain is a condition resulting from injury to the peripheral and/or central nervous system \n",
      "\n",
      "Sentence after Vectorization: \n",
      " [[4763   65   20    8  424 1486   27  503    6    2  838  727  681 3473\n",
      "   355    0    0    0    0    0    0    0    0    0    0    0    0    0\n",
      "     0    0    0    0    0    0    0    0    0    0    0    0    0    0\n",
      "     0    0    0    0    0    0    0    0    0    0    0    0]]\n",
      "\n",
      "Sentence after embedding: \n",
      " [[[-0.02925888  0.03387828  0.01047575 ...  0.01462782  0.02746012\n",
      "   -0.03121673]\n",
      "  [-0.00033834 -0.0463096  -0.01810903 ... -0.03448116 -0.02559562\n",
      "   -0.02689824]\n",
      "  [ 0.03135607 -0.03761456  0.03394577 ... -0.0432168  -0.02884756\n",
      "   -0.04918745]\n",
      "  ...\n",
      "  [-0.03668591  0.02862842  0.04278504 ... -0.00929791 -0.04965128\n",
      "    0.03249947]\n",
      "  [-0.03668591  0.02862842  0.04278504 ... -0.00929791 -0.04965128\n",
      "    0.03249947]\n",
      "  [-0.03668591  0.02862842  0.04278504 ... -0.00929791 -0.04965128\n",
      "    0.03249947]]]\n",
      "\n",
      "Embedded sentence shape: (1, 54, 128)\n"
     ]
    }
   ],
   "source": [
    "print(f'Sentence Before Vectiorization: \\n {target_sentence}\\n')\n",
    "vectorized_sentence = text_vectorizer([target_sentence])\n",
    "print(f'Sentence after Vectorization: \\n {vectorized_sentence}\\n')\n",
    "embedded_sentence = token_embed(vectorized_sentence)\n",
    "print(f'Sentence after embedding: \\n {embedded_sentence}\\n')\n",
    "print('Embedded sentence shape:', embedded_sentence.shape)"
   ]
  },
  {
   "cell_type": "markdown",
   "metadata": {
    "id": "sYVpHrgXud3i"
   },
   "source": [
    "### Creating dataset (Making sure data loads as fast as possible)"
   ]
  },
  {
   "cell_type": "code",
   "execution_count": 36,
   "metadata": {
    "colab": {
     "base_uri": "https://localhost:8080/"
    },
    "id": "IUjApfR-pnru",
    "outputId": "63381927-fc06-41b9-9242-f8e3e7c5bd3b"
   },
   "outputs": [
    {
     "data": {
      "text/plain": [
       "<TensorSliceDataset element_spec=(TensorSpec(shape=(), dtype=tf.string, name=None), TensorSpec(shape=(5,), dtype=tf.float64, name=None))>"
      ]
     },
     "execution_count": 36,
     "metadata": {},
     "output_type": "execute_result"
    }
   ],
   "source": [
    "train_dataset = tf.data.Dataset.from_tensor_slices((train_sentences, train_labels_one_hot))\n",
    "val_dataset = tf.data.Dataset.from_tensor_slices((val_sentences, val_labels_one_hot))\n",
    "test_dataset = tf.data.Dataset.from_tensor_slices((test_sentences, test_labels_one_hot))\n",
    "\n",
    "train_dataset"
   ]
  },
  {
   "cell_type": "code",
   "execution_count": 37,
   "metadata": {
    "colab": {
     "base_uri": "https://localhost:8080/"
    },
    "id": "hfqgtpm2wV8C",
    "outputId": "7f2abbc8-22b7-4c17-e6d1-8475ac9eecc6"
   },
   "outputs": [
    {
     "data": {
      "text/plain": [
       "<PrefetchDataset element_spec=(TensorSpec(shape=(None,), dtype=tf.string, name=None), TensorSpec(shape=(None, 5), dtype=tf.float64, name=None))>"
      ]
     },
     "execution_count": 37,
     "metadata": {},
     "output_type": "execute_result"
    }
   ],
   "source": [
    "train_dataset = train_dataset.batch(32).prefetch(tf.data.AUTOTUNE)\n",
    "val_dataset = val_dataset.batch(32).prefetch(tf.data.AUTOTUNE)\n",
    "test_dataset = test_dataset.batch(32).prefetch(tf.data.AUTOTUNE)\n",
    "\n",
    "train_dataset"
   ]
  },
  {
   "cell_type": "markdown",
   "metadata": {
    "id": "fyhPcm2hOY0m"
   },
   "source": [
    "##Model1: Conv1D with Text Embeddings"
   ]
  },
  {
   "cell_type": "code",
   "execution_count": 38,
   "metadata": {
    "id": "chr06sTMQ95u"
   },
   "outputs": [],
   "source": [
    "from tensorflow.keras import layers\n",
    "import tensorflow as tf"
   ]
  },
  {
   "cell_type": "code",
   "execution_count": 39,
   "metadata": {
    "id": "J_T5HLCmxDj9"
   },
   "outputs": [],
   "source": [
    "inputs = layers.Input(shape=(1,), dtype= tf.string)\n",
    "text_vectors = text_vectorizer(inputs)\n",
    "token_embeddings = token_embed(text_vectors)\n",
    "\n",
    "x = layers.Conv1D(64, kernel_size=5, padding=\"same\", activation='relu')(token_embeddings)\n",
    "x = layers.GlobalAveragePooling1D()(x)\n",
    "outputs = layers.Dense(num_classes, activation=\"softmax\")(x)\n",
    "\n",
    "model1 = tf.keras.Model(inputs, outputs)\n",
    "model1.compile(loss='categorical_crossentropy',\n",
    "               optimizer=tf.keras.optimizers.Adam(),\n",
    "               metrics=['accuracy'])\n"
   ]
  },
  {
   "cell_type": "code",
   "execution_count": 40,
   "metadata": {
    "colab": {
     "base_uri": "https://localhost:8080/"
    },
    "id": "U2yFid3mQ5A2",
    "outputId": "218c3c75-6195-4d45-c938-120771113ee5"
   },
   "outputs": [
    {
     "name": "stdout",
     "output_type": "stream",
     "text": [
      "Model: \"model\"\n",
      "_________________________________________________________________\n",
      " Layer (type)                Output Shape              Param #   \n",
      "=================================================================\n",
      " input_1 (InputLayer)        [(None, 1)]               0         \n",
      "                                                                 \n",
      " text_vectorization (TextVec  (None, 54)               0         \n",
      " torization)                                                     \n",
      "                                                                 \n",
      " token_embeding (Embedding)  (None, 54, 128)           8305152   \n",
      "                                                                 \n",
      " conv1d (Conv1D)             (None, 54, 64)            41024     \n",
      "                                                                 \n",
      " global_average_pooling1d (G  (None, 64)               0         \n",
      " lobalAveragePooling1D)                                          \n",
      "                                                                 \n",
      " dense (Dense)               (None, 5)                 325       \n",
      "                                                                 \n",
      "=================================================================\n",
      "Total params: 8,346,501\n",
      "Trainable params: 8,346,501\n",
      "Non-trainable params: 0\n",
      "_________________________________________________________________\n"
     ]
    }
   ],
   "source": [
    "model1.summary()"
   ]
  },
  {
   "cell_type": "code",
   "execution_count": 41,
   "metadata": {
    "colab": {
     "base_uri": "https://localhost:8080/"
    },
    "id": "8cv7N9fVRq1G",
    "outputId": "cd9b5a71-2b08-4e52-b772-92dd91f0272c"
   },
   "outputs": [
    {
     "name": "stdout",
     "output_type": "stream",
     "text": [
      "Epoch 1/3\n",
      "562/562 [==============================] - 17s 9ms/step - loss: 0.9230 - accuracy: 0.6377 - val_loss: 0.6771 - val_accuracy: 0.7420\n",
      "Epoch 2/3\n",
      "562/562 [==============================] - 5s 9ms/step - loss: 0.6462 - accuracy: 0.7639 - val_loss: 0.6246 - val_accuracy: 0.7743\n",
      "Epoch 3/3\n",
      "562/562 [==============================] - 5s 10ms/step - loss: 0.6087 - accuracy: 0.7787 - val_loss: 0.5923 - val_accuracy: 0.7862\n"
     ]
    }
   ],
   "source": [
    "# Fit the model\n",
    "history_model1 = model1.fit(train_dataset,\n",
    "                            steps_per_epoch=int(0.1*len(train_dataset)),\n",
    "                            epochs=3,\n",
    "                            validation_data= val_dataset,\n",
    "                            validation_steps = int(0.1*len(val_dataset))) #Only validate on 10% for validation dataset"
   ]
  },
  {
   "cell_type": "code",
   "execution_count": 42,
   "metadata": {
    "colab": {
     "base_uri": "https://localhost:8080/"
    },
    "id": "XAwjOO_OTqEu",
    "outputId": "f143b216-8fd1-496a-c639-c937b75b19c6"
   },
   "outputs": [
    {
     "name": "stdout",
     "output_type": "stream",
     "text": [
      "945/945 [==============================] - 3s 3ms/step - loss: 0.5911 - accuracy: 0.7891\n"
     ]
    },
    {
     "data": {
      "text/plain": [
       "[0.5911048650741577, 0.78912353515625]"
      ]
     },
     "execution_count": 42,
     "metadata": {},
     "output_type": "execute_result"
    }
   ],
   "source": [
    "model1.evaluate(val_dataset)"
   ]
  },
  {
   "cell_type": "code",
   "execution_count": 43,
   "metadata": {
    "colab": {
     "base_uri": "https://localhost:8080/"
    },
    "id": "ICK1DB8iUf65",
    "outputId": "e908b713-1cbc-4272-a4ed-0a99bcc7c90c"
   },
   "outputs": [
    {
     "data": {
      "text/plain": [
       "array([[5.1428187e-01, 1.2619141e-01, 4.6348885e-02, 2.9658520e-01,\n",
       "        1.6592721e-02],\n",
       "       [3.7704358e-01, 3.5649237e-01, 1.4003028e-02, 2.3898090e-01,\n",
       "        1.3480096e-02],\n",
       "       [1.5171492e-01, 3.5525488e-03, 1.7043591e-03, 8.4299237e-01,\n",
       "        3.5768891e-05],\n",
       "       ...,\n",
       "       [1.2588308e-05, 1.0204775e-03, 6.6477334e-04, 6.4743094e-06,\n",
       "        9.9829572e-01],\n",
       "       [3.6345072e-02, 4.9259284e-01, 7.7980496e-02, 4.1447379e-02,\n",
       "        3.5163426e-01],\n",
       "       [1.8312460e-01, 6.9935828e-01, 4.7136746e-02, 4.3040708e-02,\n",
       "        2.7339652e-02]], dtype=float32)"
      ]
     },
     "execution_count": 43,
     "metadata": {},
     "output_type": "execute_result"
    }
   ],
   "source": [
    "model1_pred_probs = model1.predict(val_dataset)\n",
    "model1_pred_probs"
   ]
  },
  {
   "cell_type": "code",
   "execution_count": 44,
   "metadata": {
    "colab": {
     "base_uri": "https://localhost:8080/"
    },
    "id": "E13Z4m66Vi40",
    "outputId": "208a574a-a79c-43de-d355-ee6496b93fc0"
   },
   "outputs": [
    {
     "data": {
      "text/plain": [
       "<tf.Tensor: shape=(30212,), dtype=int64, numpy=array([0, 0, 3, ..., 4, 1, 1])>"
      ]
     },
     "execution_count": 44,
     "metadata": {},
     "output_type": "execute_result"
    }
   ],
   "source": [
    "model1_preds = tf.argmax(model1_pred_probs, axis=1)\n",
    "model1_preds"
   ]
  },
  {
   "cell_type": "code",
   "execution_count": 45,
   "metadata": {
    "colab": {
     "base_uri": "https://localhost:8080/"
    },
    "id": "HxGRuquuVrwY",
    "outputId": "6fa6c04e-c358-4899-fae9-ddb7db0481eb"
   },
   "outputs": [
    {
     "name": "stdout",
     "output_type": "stream",
     "text": [
      "0.7891235270753343\n",
      "0.786915890290659\n",
      "[[1780  679  267  680   43]\n",
      " [ 362 3388  165  112  555]\n",
      " [ 113  167 8713  138  833]\n",
      " [ 495  251  170 1431   29]\n",
      " [  29  506  767   10 8529]]\n"
     ]
    }
   ],
   "source": [
    "#Calculate model1 results\n",
    "\n",
    "from sklearn.metrics import accuracy_score, f1_score, confusion_matrix\n",
    "\n",
    "print(accuracy_score(val_labels_encoded, model1_preds ))\n",
    "print(f1_score(val_labels_encoded, model1_preds, average='weighted'))\n",
    "print(confusion_matrix(val_labels_encoded, model1_preds))"
   ]
  },
  {
   "cell_type": "markdown",
   "metadata": {
    "id": "vP_4LV93xY3P"
   },
   "source": [
    "## Model2: Feature Extraction with pre-trained token embeddings\n",
    "*Universal Sentence Encoder (USE)* : https://tfhub.dev/google/universal-sentence-encoder/4\n",
    "\n"
   ]
  },
  {
   "cell_type": "code",
   "execution_count": 46,
   "metadata": {
    "id": "GRvIM2f8xnaB"
   },
   "outputs": [],
   "source": [
    "import tensorflow_hub as hub\n",
    "tf_hub_embedding_layer = hub.KerasLayer('https://tfhub.dev/google/universal-sentence-encoder/4', \n",
    "                                        trainable=False,\n",
    "                                        name='universal_sentence_encoder')"
   ]
  },
  {
   "cell_type": "code",
   "execution_count": 47,
   "metadata": {
    "colab": {
     "base_uri": "https://localhost:8080/"
    },
    "id": "_wWHSIQmWE5h",
    "outputId": "87bbe7ce-e7f6-479a-9fc5-33ed8dbdf4cb"
   },
   "outputs": [
    {
     "name": "stdout",
     "output_type": "stream",
     "text": [
      "Random Training Sentence: setting : Multicenter clinical trial conducted in @ centers in the United States and Europe \n",
      "Sentece after embedding:\n",
      "[[ 2.99082045e-03  7.49641210e-02 -3.34704667e-02 -9.90457088e-03\n",
      "   1.33783993e-04 -3.90686952e-02  4.47808839e-02 -4.98807356e-02\n",
      "   2.92305034e-02 -4.20445465e-02  7.96118379e-02  4.82283235e-02\n",
      "   8.20240006e-02 -5.43071851e-02  5.12272716e-02  6.87403977e-02\n",
      "  -8.01597461e-02  2.58523971e-02  4.97840904e-02  7.28263892e-03\n",
      "  -2.21467316e-02 -6.94282204e-02 -3.37290391e-02  2.18461193e-02\n",
      "  -4.24872562e-02 -3.92959863e-02  4.80337953e-03  8.38591307e-02\n",
      "   3.94256376e-02  6.72276914e-02 -8.96786992e-03  9.61157754e-02\n",
      "   7.03361034e-02  8.03262815e-02  2.44963355e-02  7.22384593e-03\n",
      "  -3.45053114e-02 -5.02467379e-02  7.82222580e-03 -3.58810723e-02\n",
      "  -1.37214921e-02  2.03420650e-02 -8.10506754e-03 -3.63992229e-02\n",
      "   4.90847006e-02 -1.99793875e-02 -4.44773585e-03 -1.47555461e-02\n",
      "  -8.14877450e-03 -4.60995622e-02  8.99542589e-04  5.41895665e-02\n",
      "  -4.42593955e-02  1.37958657e-02 -2.88729966e-02  5.09091541e-02\n",
      "  -1.96234491e-02  4.23932895e-02 -5.95925525e-02  3.69529948e-02\n",
      "  -2.11640038e-02 -7.47016491e-03  5.80901746e-03  2.74922829e-02\n",
      "   1.03522334e-02  6.52231276e-03  5.50141707e-02 -5.39767146e-02\n",
      "  -3.85965146e-02  5.56201674e-03  2.72989869e-02 -9.26601887e-03\n",
      "  -3.73546258e-02 -5.27794734e-02  1.00300545e-02  3.56552638e-02\n",
      "   4.95489165e-02 -4.84463871e-02 -7.79112056e-02 -4.73728927e-04\n",
      "  -1.61105068e-03 -1.12695843e-02  6.38470426e-02  7.51292333e-04\n",
      "  -2.26335153e-02  4.78244014e-02 -3.32255810e-02 -9.52603221e-02\n",
      "   2.26924121e-02  2.31388211e-02  2.95163970e-02  1.47630582e-02\n",
      "   6.45527393e-02 -6.90462589e-02  2.20893249e-02  3.40864658e-02\n",
      "   4.03519385e-02  1.56931989e-02 -2.92766187e-02 -3.07610445e-02\n",
      "  -4.01127413e-02 -1.64976940e-02 -6.18815161e-02  4.02377173e-02\n",
      "  -9.25045554e-03  3.13124135e-02 -9.87112522e-03 -6.84685037e-02\n",
      "  -4.43097875e-02 -5.78010045e-02  6.38341680e-02  1.33650135e-02\n",
      "  -2.67533120e-04  4.73208427e-02 -4.91738468e-02 -6.11406043e-02\n",
      "   1.33891329e-02  6.42132983e-02  6.17129579e-02  6.10652529e-02\n",
      "  -2.89202575e-02 -3.13534145e-03 -2.46579181e-02  4.18068469e-02\n",
      "   4.60147634e-02  6.84832931e-02  9.99080986e-02 -1.22574838e-02\n",
      "   2.92648245e-02 -3.54984403e-02  4.38119061e-02  9.76044387e-02\n",
      "  -5.51598519e-02 -5.45006879e-02  5.59727773e-02 -6.09118901e-02\n",
      "   1.10587496e-02  2.26633530e-02  6.89381780e-03  2.83640344e-02\n",
      "   4.38824855e-02 -3.85086201e-02 -8.14393256e-03  3.81668843e-02\n",
      "  -1.75105482e-02 -3.14769521e-02 -2.15775352e-02  5.77069744e-02\n",
      "   6.37963861e-02 -5.90217523e-02 -1.69567764e-02  1.00346068e-02\n",
      "   9.52459313e-03 -3.72323953e-02  7.63835087e-02  1.16171483e-02\n",
      "  -3.55167799e-02  1.98554825e-02 -1.85138937e-02 -4.93505038e-02\n",
      "   8.40505213e-02  2.92142783e-03  1.92422699e-02  3.94097790e-02\n",
      "   4.84985411e-02  2.61088163e-02  5.21379746e-02 -1.94667410e-02\n",
      "  -7.09560215e-02 -4.21608202e-02 -5.91652095e-02  1.03375912e-02\n",
      "   5.06825745e-02  1.17806159e-02  7.00236647e-04  2.77105602e-03\n",
      "   2.94344295e-02  7.91354254e-02 -3.86526063e-02  2.99341045e-02\n",
      "   7.60426093e-03  8.97358172e-03  1.73023753e-02  6.28145561e-02\n",
      "  -1.15576489e-02  2.92305537e-02  6.03927560e-02 -2.00099181e-02\n",
      "  -3.10786348e-02 -2.54596770e-02  1.57555696e-02 -3.41490619e-02\n",
      "  -4.86967936e-02  4.83656302e-02  8.37411731e-02 -3.11301630e-02\n",
      "  -8.32864549e-03 -7.20443064e-03 -5.71866296e-02  1.89301390e-02\n",
      "  -9.85133871e-02 -1.18292980e-02  3.48493084e-02  5.71328290e-02\n",
      "   4.26849397e-03 -6.73783794e-02  2.54181679e-02 -2.74270996e-02\n",
      "   3.86518128e-02  7.97195807e-02 -5.60858436e-02 -6.88487142e-02\n",
      "   2.61830282e-03  2.06960831e-02 -7.28949346e-03 -3.46536413e-02\n",
      "   4.88094464e-02  5.76146804e-02  3.31118442e-02 -4.15944569e-02\n",
      "  -3.74654830e-02 -1.97650101e-02  7.24266693e-02  1.03117116e-02\n",
      "  -1.52404252e-02  5.75038008e-02  6.67208713e-03 -1.54317478e-02\n",
      "  -4.83187810e-02  7.68294111e-02 -1.01205502e-02 -3.66550274e-02\n",
      "   1.91510525e-02  5.98617084e-02  8.29149317e-03 -4.40885350e-02\n",
      "  -6.04747646e-02 -2.02759951e-02  3.55463810e-02 -2.03543948e-03\n",
      "  -5.77175282e-02 -8.97231326e-03 -5.04279435e-02  8.80012196e-03\n",
      "  -3.79402889e-03  2.07011383e-02 -8.64492953e-02 -3.61447316e-03\n",
      "   5.99051937e-02 -8.78646895e-02  4.58822623e-02 -3.30455950e-03\n",
      "  -1.87788773e-02 -4.34830934e-02  4.13035555e-03  6.15802072e-02\n",
      "   5.65799512e-03 -8.18663761e-02  1.17470762e-02 -2.91810930e-02\n",
      "   1.26820812e-02  4.03967313e-02 -4.16378118e-02 -7.70568773e-02\n",
      "   2.67134327e-02 -4.38642316e-02  3.59829217e-02  5.27707525e-02\n",
      "  -2.15476230e-02 -6.31257473e-03  3.07115214e-03 -4.75852899e-02\n",
      "   1.78686474e-02 -8.55961293e-02 -2.88845021e-02 -6.54242262e-02\n",
      "   6.63912967e-02 -4.95420024e-02 -6.42697588e-02  5.79876453e-03\n",
      "  -6.49017021e-02  4.91629839e-02 -4.97286022e-02 -2.52729282e-02\n",
      "  -4.19941284e-02  6.78984150e-02  6.93683652e-03 -2.55250782e-02\n",
      "   5.55388555e-02 -6.09164909e-02 -5.47173880e-02 -3.62298940e-03\n",
      "  -9.34912339e-02  3.40267494e-02 -1.70922671e-02 -6.15172721e-02\n",
      "   2.92913504e-02 -5.35789761e-04  6.65550232e-02 -4.49423725e-03\n",
      "   2.34657843e-02 -2.69433632e-02  2.23355507e-03 -6.18101023e-02\n",
      "  -8.22611526e-02 -4.18153740e-02  4.85059284e-02 -1.50994128e-02\n",
      "   5.47318272e-02 -6.96019307e-02 -8.01986828e-02  9.51723996e-05\n",
      "   8.00340399e-02 -4.60429490e-02 -2.32840087e-02 -1.48212397e-02\n",
      "   3.70473824e-02  6.41296655e-02 -5.53534143e-02 -3.15053537e-02\n",
      "  -7.17176422e-02 -3.09640486e-02 -1.12603493e-02 -3.12535092e-02\n",
      "  -3.07786725e-02 -2.99722180e-02  2.05148906e-02 -1.41062737e-02\n",
      "   4.07183282e-02  1.51104862e-02  6.58899397e-02  7.42707998e-02\n",
      "   5.06851487e-02  3.46271461e-03  3.71482372e-02  3.33441272e-02\n",
      "   6.65696710e-02 -6.49300069e-02 -2.74009025e-03  5.72308749e-02\n",
      "   8.71686381e-04  3.44535969e-02  3.65330875e-02 -3.11843231e-02\n",
      "  -2.71469411e-02  1.72371082e-02  4.12649335e-03  1.83376763e-02\n",
      "  -3.27624716e-02  5.80925320e-04  5.11436649e-02 -6.63302913e-02\n",
      "  -1.32329180e-03 -1.78660545e-02  7.19067752e-02 -3.66860591e-02\n",
      "  -1.88513231e-02 -5.26087359e-04  4.89049777e-02 -4.75191399e-02\n",
      "   2.03731619e-02 -3.45852077e-02 -6.24070391e-02 -5.33239134e-02\n",
      "  -5.92968278e-02 -1.09046353e-02 -2.30226349e-02  1.99156776e-02\n",
      "   3.63556072e-02 -6.90489337e-02  1.08581483e-02  6.88048378e-02\n",
      "   1.81768071e-02  8.45810771e-03 -4.02801894e-02 -4.53211963e-02\n",
      "   6.02332801e-02 -4.58367243e-02 -2.06179265e-02 -6.17060997e-02\n",
      "   1.55459605e-02 -5.59176654e-02 -3.93274017e-02 -6.71471562e-03\n",
      "   9.10902629e-04 -2.82135867e-02  6.49585053e-02 -3.48484777e-02\n",
      "   5.33610545e-02  3.24173830e-02 -1.14178900e-02  1.23558622e-02\n",
      "  -5.71520999e-02 -1.27318949e-02 -1.11585753e-02  6.11685179e-02\n",
      "   1.91663485e-02 -8.85256678e-02  5.96385114e-02 -6.39938843e-03\n",
      "   5.06796837e-02  5.74569702e-02  7.02611580e-02 -5.61540239e-02\n",
      "   6.09612837e-02  4.65542451e-02 -3.48425768e-02  7.28225410e-02\n",
      "   3.57727818e-02  2.64416169e-02 -2.19601057e-02  2.84988452e-02\n",
      "   1.38748745e-02  2.40834802e-02 -2.28028391e-02 -2.34989333e-03\n",
      "  -3.93179953e-02 -5.04802093e-02 -2.04383899e-02  6.19595908e-02\n",
      "  -9.22504440e-02 -2.92458870e-02  8.03504363e-02  4.81347367e-02\n",
      "   4.48912568e-02  5.68331964e-02  3.20069194e-02  2.65419092e-02\n",
      "   2.72539705e-02 -2.91028116e-02 -3.68626490e-02 -2.23088115e-02\n",
      "  -6.16694130e-02  1.64466091e-02 -5.06665073e-02  1.25779007e-02\n",
      "   3.89739498e-02 -2.49217674e-02  5.31477407e-02  4.56566028e-02\n",
      "   5.10223061e-02 -5.15293889e-02  6.92714471e-03 -5.16378954e-02\n",
      "  -7.00765774e-02 -2.94272657e-02  2.06474052e-03  3.94149758e-02\n",
      "  -1.51496916e-03  3.16616781e-02 -2.40801685e-02  5.14056496e-02\n",
      "  -4.14779149e-02  8.96385685e-02  7.26751909e-02 -8.35877210e-02\n",
      "   3.19931917e-02 -5.44403978e-02  1.77634396e-02  6.18665777e-02\n",
      "   4.02050950e-02 -7.37797394e-02  1.90582387e-02 -3.10618244e-02\n",
      "   2.12317649e-02  1.64769974e-03  2.31196173e-02 -2.07722094e-02\n",
      "   5.96084632e-02 -6.81379437e-02  4.31305505e-02  5.67720123e-02\n",
      "  -4.91573196e-03 -1.66868884e-02 -1.18997479e-02  6.49719015e-02\n",
      "  -7.04689845e-02  1.99245717e-02 -4.98013720e-02  5.35954200e-02\n",
      "  -2.58893128e-02  5.63228801e-02  2.01350320e-02  1.64440647e-02\n",
      "   7.69181922e-02  6.76856413e-02  6.98594563e-03 -4.81319390e-02\n",
      "  -2.82169078e-02 -2.93074902e-02  7.23048076e-02 -1.05696535e-02\n",
      "  -1.10422065e-02 -1.61625221e-02  3.71448435e-02 -1.41215185e-02\n",
      "  -5.46899401e-02 -2.11791368e-03  5.19973338e-02 -2.23197117e-02\n",
      "   1.96478665e-02 -2.20353678e-02 -5.64302616e-02  7.75154158e-02\n",
      "   1.67434122e-02 -9.34529305e-02  6.29167110e-02  1.67079270e-02\n",
      "  -8.92964602e-02  3.67229767e-02 -2.53147762e-02 -2.60998067e-02]]\n",
      "Length of sentence embedding: 512\n"
     ]
    }
   ],
   "source": [
    "#Test out pre-trained embedding on random sentences\n",
    "random_train_sentence = random.choice(train_sentences)\n",
    "print(f'Random Training Sentence: {random_train_sentence}')\n",
    "use_embedded_sentence = tf_hub_embedding_layer([random_train_sentence])\n",
    "print(f'Sentece after embedding:\\n{use_embedded_sentence}')\n",
    "print(f'Length of sentence embedding: {len(use_embedded_sentence[0])}')"
   ]
  },
  {
   "cell_type": "markdown",
   "metadata": {
    "id": "Mh7KgG7C9M1Z"
   },
   "source": [
    "### Building and fitting feature extraction model from TensorFlow Hub"
   ]
  },
  {
   "cell_type": "code",
   "execution_count": 48,
   "metadata": {
    "id": "wUdqiZFx5M93"
   },
   "outputs": [],
   "source": [
    "# Define feature extraction model using TF Hub Layer\n",
    "inputs = layers.Input(shape=[], dtype= tf.string)\n",
    "pretrain_embedding = tf_hub_embedding_layer(inputs) #Tokenize text and create embedding od each sequence (512 long vector)\n",
    "x = layers.Dense(128, activation='relu')(pretrain_embedding)\n",
    "\n",
    "outputs = layers.Dense(num_classes, activation=\"softmax\")(x)\n",
    "model2 = tf.keras.Model(inputs, outputs, name='model2_use_feature_extractor')\n",
    "\n",
    "model2.compile(loss='categorical_crossentropy',\n",
    "               optimizer= tf.keras.optimizers.Adam(),\n",
    "               metrics=['accuracy'])"
   ]
  },
  {
   "cell_type": "code",
   "execution_count": 49,
   "metadata": {
    "colab": {
     "base_uri": "https://localhost:8080/"
    },
    "id": "24gE1wxC_Cgo",
    "outputId": "c9811086-e043-4a59-e3f5-cabc4836708c"
   },
   "outputs": [
    {
     "name": "stdout",
     "output_type": "stream",
     "text": [
      "Model: \"model2_use_feature_extractor\"\n",
      "_________________________________________________________________\n",
      " Layer (type)                Output Shape              Param #   \n",
      "=================================================================\n",
      " input_2 (InputLayer)        [(None,)]                 0         \n",
      "                                                                 \n",
      " universal_sentence_encoder   (None, 512)              256797824 \n",
      " (KerasLayer)                                                    \n",
      "                                                                 \n",
      " dense_1 (Dense)             (None, 128)               65664     \n",
      "                                                                 \n",
      " dense_2 (Dense)             (None, 5)                 645       \n",
      "                                                                 \n",
      "=================================================================\n",
      "Total params: 256,864,133\n",
      "Trainable params: 66,309\n",
      "Non-trainable params: 256,797,824\n",
      "_________________________________________________________________\n"
     ]
    }
   ],
   "source": [
    "model2.summary()"
   ]
  },
  {
   "cell_type": "code",
   "execution_count": 50,
   "metadata": {
    "colab": {
     "base_uri": "https://localhost:8080/"
    },
    "id": "F2EuwW4v_PGO",
    "outputId": "56674cf7-d04b-4b02-8b06-172d720b4448"
   },
   "outputs": [
    {
     "name": "stdout",
     "output_type": "stream",
     "text": [
      "Epoch 1/3\n",
      "562/562 [==============================] - 12s 17ms/step - loss: 0.9152 - accuracy: 0.6467 - val_loss: 0.7930 - val_accuracy: 0.6898\n",
      "Epoch 2/3\n",
      "562/562 [==============================] - 14s 25ms/step - loss: 0.7672 - accuracy: 0.7013 - val_loss: 0.7524 - val_accuracy: 0.7064\n",
      "Epoch 3/3\n",
      "562/562 [==============================] - 14s 25ms/step - loss: 0.7496 - accuracy: 0.7119 - val_loss: 0.7372 - val_accuracy: 0.7131\n"
     ]
    }
   ],
   "source": [
    "# Fit model2 to the data\n",
    "history_model2 = model2.fit(train_dataset,\n",
    "                            epochs=3,\n",
    "                            steps_per_epoch= int(0.1* len(train_dataset)),\n",
    "                            validation_data= val_dataset,\n",
    "                            validation_steps= int(0.1* len(val_dataset)))\n"
   ]
  },
  {
   "cell_type": "code",
   "execution_count": 51,
   "metadata": {
    "colab": {
     "base_uri": "https://localhost:8080/"
    },
    "id": "MSCA8FGpBPxc",
    "outputId": "e776bfb7-ee1c-4f1c-fd0f-4dc923593e4c"
   },
   "outputs": [
    {
     "name": "stdout",
     "output_type": "stream",
     "text": [
      "945/945 [==============================] - 17s 18ms/step - loss: 0.7398 - accuracy: 0.7157\n"
     ]
    },
    {
     "data": {
      "text/plain": [
       "[0.7398321628570557, 0.7156758904457092]"
      ]
     },
     "execution_count": 51,
     "metadata": {},
     "output_type": "execute_result"
    }
   ],
   "source": [
    "model2.evaluate(val_dataset)"
   ]
  },
  {
   "cell_type": "code",
   "execution_count": 52,
   "metadata": {
    "colab": {
     "base_uri": "https://localhost:8080/"
    },
    "id": "IXNDgjDGByPh",
    "outputId": "8190862e-3918-4297-dae3-af2720deb7c8"
   },
   "outputs": [
    {
     "data": {
      "text/plain": [
       "array([[4.5238477e-01, 3.5743639e-01, 1.7177041e-03, 1.8105055e-01,\n",
       "        7.4106236e-03],\n",
       "       [3.7411198e-01, 4.6488139e-01, 3.2853985e-03, 1.5480396e-01,\n",
       "        2.9173463e-03],\n",
       "       [2.4944071e-01, 1.2829098e-01, 1.6394224e-02, 5.6260592e-01,\n",
       "        4.3268185e-02],\n",
       "       ...,\n",
       "       [1.9817243e-03, 5.6527960e-03, 5.5161625e-02, 8.0477935e-04,\n",
       "        9.3639904e-01],\n",
       "       [4.0204539e-03, 4.6575550e-02, 2.2205445e-01, 1.3540910e-03,\n",
       "        7.2599542e-01],\n",
       "       [1.5092161e-01, 2.8482625e-01, 5.0209081e-01, 6.1609508e-03,\n",
       "        5.6000393e-02]], dtype=float32)"
      ]
     },
     "execution_count": 52,
     "metadata": {},
     "output_type": "execute_result"
    }
   ],
   "source": [
    "# Make predictions\n",
    "model2_pred_probs = model2.predict(val_dataset)\n",
    "model2_pred_probs"
   ]
  },
  {
   "cell_type": "code",
   "execution_count": 53,
   "metadata": {
    "colab": {
     "base_uri": "https://localhost:8080/"
    },
    "id": "2HeNruUMCNMh",
    "outputId": "317246e9-5e28-45da-9d8d-1262fede97ca"
   },
   "outputs": [
    {
     "data": {
      "text/plain": [
       "<tf.Tensor: shape=(30212,), dtype=int64, numpy=array([0, 1, 3, ..., 4, 4, 2])>"
      ]
     },
     "execution_count": 53,
     "metadata": {},
     "output_type": "execute_result"
    }
   ],
   "source": [
    "# Convert predictions probabilities with feature extraction model to labels\n",
    "model2_preds = tf.argmax(model2_pred_probs, axis=1)\n",
    "model2_preds"
   ]
  },
  {
   "cell_type": "code",
   "execution_count": 54,
   "metadata": {
    "colab": {
     "base_uri": "https://localhost:8080/"
    },
    "id": "2wWLyqJaCdOk",
    "outputId": "fca2829a-3448-4ba0-cc0d-66b838afb1ab"
   },
   "outputs": [
    {
     "name": "stdout",
     "output_type": "stream",
     "text": [
      "0.7156758903746856\n",
      "0.7127680405639829\n",
      "[[1402 1004  295  640  108]\n",
      " [ 307 3091  317  239  628]\n",
      " [ 176  327 7906  254 1301]\n",
      " [ 319  424  236 1324   73]\n",
      " [  51  584 1246   61 7899]]\n"
     ]
    }
   ],
   "source": [
    "# Calculate results\n",
    "print(accuracy_score(val_labels_encoded, model2_preds ))\n",
    "print(f1_score(val_labels_encoded, model2_preds, average='weighted'))\n",
    "print(confusion_matrix(val_labels_encoded, model2_preds))"
   ]
  },
  {
   "cell_type": "markdown",
   "metadata": {
    "id": "QtYWvsOaRVWt"
   },
   "source": [
    "## Model3 : Conv1D with character embeddings\n"
   ]
  },
  {
   "cell_type": "markdown",
   "metadata": {
    "id": "YqL-EQDYSBeF"
   },
   "source": [
    "### Create character level tokenizer\n"
   ]
  },
  {
   "cell_type": "code",
   "execution_count": 55,
   "metadata": {
    "colab": {
     "base_uri": "https://localhost:8080/"
    },
    "id": "CjD6Fjc5Dzsu",
    "outputId": "156c209a-572d-4c79-9383-8011ea11458e"
   },
   "outputs": [
    {
     "data": {
      "text/plain": [
       "['To investigate the efficacy of @ weeks of daily low-dose oral prednisolone in improving pain , mobility , and systemic low-grade inflammation in the short term and whether the effect would be sustained at @ weeks in older adults with moderate to severe knee osteoarthritis ( OA ) ',\n",
       " 'A total of @ patients with primary knee OA were randomized @:@ ; @ received @ mg/day of prednisolone and @ received placebo for @ weeks ',\n",
       " 'Outcome measures included pain reduction and improvement in function scores and systemic inflammation markers ',\n",
       " 'Pain was assessed using the visual analog pain scale ( @-@ mm ) ',\n",
       " 'Secondary outcome measures included the Western Ontario and McMaster Universities Osteoarthritis Index scores , patient global assessment ( PGA ) of the severity of knee OA , and @-min walk distance ( @MWD ) ']"
      ]
     },
     "execution_count": 55,
     "metadata": {},
     "output_type": "execute_result"
    }
   ],
   "source": [
    "train_sentences[:5]"
   ]
  },
  {
   "cell_type": "code",
   "execution_count": 56,
   "metadata": {
    "colab": {
     "base_uri": "https://localhost:8080/",
     "height": 53
    },
    "id": "CBTunTnCSFbZ",
    "outputId": "832fa017-3b75-42cf-8b89-8242f042b15f"
   },
   "outputs": [
    {
     "data": {
      "application/vnd.google.colaboratory.intrinsic+json": {
       "type": "string"
      },
      "text/plain": [
       "'s e t t i n g   :   M u l t i c e n t e r   c l i n i c a l   t r i a l   c o n d u c t e d   i n   @   c e n t e r s   i n   t h e   U n i t e d   S t a t e s   a n d   E u r o p e  '"
      ]
     },
     "execution_count": 56,
     "metadata": {},
     "output_type": "execute_result"
    }
   ],
   "source": [
    "#Make function to convert words into characters\n",
    "\n",
    "def split_chars(text):\n",
    "  return \" \".join(list(text))\n",
    "\n",
    "split_chars(random_train_sentence)"
   ]
  },
  {
   "cell_type": "code",
   "execution_count": 57,
   "metadata": {
    "colab": {
     "base_uri": "https://localhost:8080/"
    },
    "id": "JumzbQ5WTfQ8",
    "outputId": "3f1a792a-2cea-4e09-d91f-2402fc82af34"
   },
   "outputs": [
    {
     "data": {
      "text/plain": [
       "['T h i s   s t u d y   a n a l y z e d   l i v e r   f u n c t i o n   a b n o r m a l i t i e s   i n   h e a r t   f a i l u r e   p a t i e n t s   a d m i t t e d   w i t h   s e v e r e   a c u t e   d e c o m p e n s a t e d   h e a r t   f a i l u r e   (   A D H F   )  ',\n",
       " 'A   p o s t   h o c   a n a l y s i s   w a s   c o n d u c t e d   w i t h   t h e   u s e   o f   d a t a   f r o m   t h e   E v a l u a t i o n   S t u d y   o f   C o n g e s t i v e   H e a r t   F a i l u r e   a n d   P u l m o n a r y   A r t e r y   C a t h e t e r i z a t i o n   E f f e c t i v e n e s s   (   E S C A P E   )  ',\n",
       " 'L i v e r   f u n c t i o n   t e s t s   (   L F T s   )   w e r e   m e a s u r e d   a t   @   t i m e   p o i n t s   f r o m   b a s e l i n e   ,   a t   d i s c h a r g e   ,   a n d   u p   t o   @   m o n t h s   f o l l o w - u p  ',\n",
       " 'S u r v i v a l   a n a l y s e s   w e r e   u s e d   t o   a s s e s s   t h e   a s s o c i a t i o n   b e t w e e n   a d m i s s i o n   M o d e l   o f   E n d - S t a g e   L i v e r   D i s e a s e   E x c l u d i n g   I n t e r n a t i o n a l   N o r m a l i z e d   R a t i o   (   M E L D - X I   )   s c o r e s   a n d   p a t i e n t   o u t c o m e . T h e r e   w a s   a   h i g h   p r e v a l e n c e   o f   a b n o r m a l   b a s e l i n e   (   a d m i s s i o n   )   L F T s   (   a l b u m i n   @   %   ,   a s p a r t a t e   t r a n s a m i n a s e   @   %   ,   a l a n i n e   t r a n s a m i n a s e   @   %   ,   a n d   t o t a l   b i l i r u b i n   @   %   )  ',\n",
       " \"T h e   p e r c e n t a g e   o f   p a t i e n t s   w i t h   a b n o r m a l   L F T s   d e c r e a s e d   s i g n i f i c a n t l y   f r o m   b a s e l i n e   t o   @ - m o n t h s   '   f o l l o w - u p  \"]"
      ]
     },
     "execution_count": 57,
     "metadata": {},
     "output_type": "execute_result"
    }
   ],
   "source": [
    "train_chars = [split_chars(sentence) for sentence in train_sentences]\n",
    "val_chars = [split_chars(sentence) for sentence in val_sentences]\n",
    "test_chars = [split_chars(sentence) for sentence in test_sentences]\n",
    "test_chars[:5]"
   ]
  },
  {
   "cell_type": "code",
   "execution_count": 58,
   "metadata": {
    "colab": {
     "base_uri": "https://localhost:8080/"
    },
    "id": "cEnZXvk2Uk02",
    "outputId": "bd487454-38ef-4661-d247-be6cef510146"
   },
   "outputs": [
    {
     "data": {
      "text/plain": [
       "148.3662574983337"
      ]
     },
     "execution_count": 58,
     "metadata": {},
     "output_type": "execute_result"
    }
   ],
   "source": [
    "char_lens = [len(sentence) for sentence in train_sentences]\n",
    "mean_char_len = np.mean(char_lens)\n",
    "mean_char_len"
   ]
  },
  {
   "cell_type": "code",
   "execution_count": 59,
   "metadata": {
    "colab": {
     "base_uri": "https://localhost:8080/",
     "height": 352
    },
    "id": "MAHtQ6teXfwK",
    "outputId": "9dfb50b9-2772-467b-9936-7a43e4f30035"
   },
   "outputs": [
    {
     "data": {
      "text/plain": [
       "(array([9.2691e+04, 7.6343e+04, 9.6890e+03, 1.0890e+03, 1.6700e+02,\n",
       "        4.2000e+01, 1.3000e+01, 3.0000e+00, 2.0000e+00, 1.0000e+00]),\n",
       " array([   0. ,  138.5,  277. ,  415.5,  554. ,  692.5,  831. ,  969.5,\n",
       "        1108. , 1246.5, 1385. ]),\n",
       " <a list of 10 Patch objects>)"
      ]
     },
     "execution_count": 59,
     "metadata": {},
     "output_type": "execute_result"
    },
    {
     "data": {
      "image/png": "[encoded data removed]",
      "text/plain": [
       "<Figure size 432x288 with 1 Axes>"
      ]
     },
     "metadata": {
      "needs_background": "light"
     },
     "output_type": "display_data"
    }
   ],
   "source": [
    "plt.hist(char_lens, bins=10)"
   ]
  },
  {
   "cell_type": "code",
   "execution_count": 60,
   "metadata": {
    "colab": {
     "base_uri": "https://localhost:8080/"
    },
    "id": "cUpTQu9jXrxg",
    "outputId": "02cdc69f-ecf2-40e6-d1bf-2e7901434977"
   },
   "outputs": [
    {
     "data": {
      "text/plain": [
       "289"
      ]
     },
     "execution_count": 60,
     "metadata": {},
     "output_type": "execute_result"
    }
   ],
   "source": [
    "output_seq_char_len = int(np.percentile(char_lens, 95))\n",
    "output_seq_char_len"
   ]
  },
  {
   "cell_type": "code",
   "execution_count": 61,
   "metadata": {
    "colab": {
     "base_uri": "https://localhost:8080/",
     "height": 36
    },
    "id": "SfXZnkSmX84T",
    "outputId": "3eee8efa-e57c-4a9a-cf5c-be5eb7c544cf"
   },
   "outputs": [
    {
     "data": {
      "application/vnd.google.colaboratory.intrinsic+json": {
       "type": "string"
      },
      "text/plain": [
       "'abcdefghijklmnopqrstuvwxyz0123456789!\"#$%&\\'()*+,-./:;<=>?@[\\\\]^_`{|}~'"
      ]
     },
     "execution_count": 61,
     "metadata": {},
     "output_type": "execute_result"
    }
   ],
   "source": [
    "import string\n",
    "alphabet = string.ascii_lowercase + string.digits + string.punctuation\n",
    "alphabet"
   ]
  },
  {
   "cell_type": "code",
   "execution_count": 62,
   "metadata": {
    "id": "lZ15q3dEZI5e"
   },
   "outputs": [],
   "source": [
    "#char level token vectorizer\n",
    "NUM_CHAR_TOKENS = len(alphabet) + 2 #Added 2 for space and OOV (Out of Vocab, ['UNK'])\n",
    "char_vectorizer = TextVectorization(max_tokens= NUM_CHAR_TOKENS,\n",
    "                  output_sequence_length = output_seq_char_len,\n",
    "                  name='char_vectorizer')\n"
   ]
  },
  {
   "cell_type": "code",
   "execution_count": 63,
   "metadata": {
    "id": "2arn-Ei5aEGO"
   },
   "outputs": [],
   "source": [
    "#Adapt character vectiorizer to training characters\n",
    "char_vectorizer.adapt(train_chars)"
   ]
  },
  {
   "cell_type": "code",
   "execution_count": 64,
   "metadata": {
    "colab": {
     "base_uri": "https://localhost:8080/"
    },
    "id": "kjMJoexiaTW9",
    "outputId": "c28533c4-fcc7-420b-8879-126886843a7b"
   },
   "outputs": [
    {
     "name": "stdout",
     "output_type": "stream",
     "text": [
      "Number of different characters in character vocab: 28\n",
      "5 most common characters: ['', '[UNK]', 'e', 't', 'i'] \n",
      "5 least common characters: ['k', 'x', 'z', 'q', 'j'] \n"
     ]
    }
   ],
   "source": [
    "#Check character vocab stats\n",
    "char_vocab = char_vectorizer.get_vocabulary()\n",
    "print(f'Number of different characters in character vocab: {len(char_vocab)}')\n",
    "print(f'5 most common characters: {char_vocab[:5]} ')\n",
    "print(f'5 least common characters: {char_vocab[-5:]} ')"
   ]
  },
  {
   "cell_type": "code",
   "execution_count": 65,
   "metadata": {
    "colab": {
     "base_uri": "https://localhost:8080/"
    },
    "id": "NE03lo9ta1le",
    "outputId": "c75a563d-e5ca-4f93-e07f-cda551891245"
   },
   "outputs": [
    {
     "name": "stdout",
     "output_type": "stream",
     "text": [
      "Text in characters: T h e   O C N   +   c e l l s   l a c k i n g   b o t h   C D @   a n d   C D @   i n c r e a s e d   f r o m   w e e k s   @   t o   @   (   @   @   t o   @   @   %   ;   P   =   @   )   ,   b u t   r e t u r n e d   t o   b a s e l i n e   a f t e r   s w i t c h i n g   t o   M E T  \n",
      "Length of random_train_chars: 108\n",
      "Vecotrized chars:\n",
      "[[ 3 13  2  7 11  6 11  2 12 12  9 12  5 11 23  4  6 18 22  7  3 13 11 10\n",
      "   5  6 10 11 10  4  6 11  8  2  5  9  2 10 17  8  7 15 20  2  2 23  9  3\n",
      "   7  3  7 14 22 16  3  8  2  3 16  8  6  2 10  3  7 22  5  9  2 12  4  6\n",
      "   2  5 17  3  2  8  9 20  4  3 11 13  4  6 18  3  7 15  2  3  0  0  0  0\n",
      "   0  0  0  0  0  0  0  0  0  0  0  0  0  0  0  0  0  0  0  0  0  0  0  0\n",
      "   0  0  0  0  0  0  0  0  0  0  0  0  0  0  0  0  0  0  0  0  0  0  0  0\n",
      "   0  0  0  0  0  0  0  0  0  0  0  0  0  0  0  0  0  0  0  0  0  0  0  0\n",
      "   0  0  0  0  0  0  0  0  0  0  0  0  0  0  0  0  0  0  0  0  0  0  0  0\n",
      "   0  0  0  0  0  0  0  0  0  0  0  0  0  0  0  0  0  0  0  0  0  0  0  0\n",
      "   0  0  0  0  0  0  0  0  0  0  0  0  0  0  0  0  0  0  0  0  0  0  0  0\n",
      "   0  0  0  0  0  0  0  0  0  0  0  0  0  0  0  0  0  0  0  0  0  0  0  0\n",
      "   0  0  0  0  0  0  0  0  0  0  0  0  0  0  0  0  0  0  0  0  0  0  0  0\n",
      "   0]]\n",
      "Length of vectorized chars: 289\n"
     ]
    }
   ],
   "source": [
    "#Test character vectorizer\n",
    "random_train_chars = random.choice(train_chars)\n",
    "print(f'Text in characters: {random_train_chars}')\n",
    "print(f'Length of random_train_chars: {len(random_train_chars.split())}')\n",
    "vectorized_chars = char_vectorizer([random_train_chars])\n",
    "print(f'Vecotrized chars:\\n{vectorized_chars}')\n",
    "print(f'Length of vectorized chars: {len(vectorized_chars[0])}')"
   ]
  },
  {
   "cell_type": "markdown",
   "metadata": {
    "id": "YtmJlvmUsxFD"
   },
   "source": [
    "### Creating character-level Embedding"
   ]
  },
  {
   "cell_type": "code",
   "execution_count": 66,
   "metadata": {
    "id": "RbyoIOSTb91D"
   },
   "outputs": [],
   "source": [
    "char_embed = layers.Embedding(input_dim=len(char_vocab), \n",
    "                 output_dim=25,\n",
    "                 mask_zero=True,\n",
    "                 name = 'char_embed')"
   ]
  },
  {
   "cell_type": "code",
   "execution_count": 67,
   "metadata": {
    "colab": {
     "base_uri": "https://localhost:8080/"
    },
    "id": "P-I6cwOruQs1",
    "outputId": "bc117228-a519-44b7-911d-2c877452f2a4"
   },
   "outputs": [
    {
     "name": "stdout",
     "output_type": "stream",
     "text": [
      "Text characters before vectiorization: T h e   O C N   +   c e l l s   l a c k i n g   b o t h   C D @   a n d   C D @   i n c r e a s e d   f r o m   w e e k s   @   t o   @   (   @   @   t o   @   @   %   ;   P   =   @   )   ,   b u t   r e t u r n e d   t o   b a s e l i n e   a f t e r   s w i t c h i n g   t o   M E T  \n",
      "Text character after vecotrization:\n",
      " [[[-0.00204003  0.03275463 -0.04107921 ... -0.03794665 -0.01051033\n",
      "   -0.00838289]\n",
      "  [-0.00809946  0.02626615 -0.03704773 ...  0.00267907  0.01120151\n",
      "    0.04317466]\n",
      "  [ 0.03029663  0.02438969  0.03811285 ...  0.04896033 -0.00350209\n",
      "    0.02064573]\n",
      "  ...\n",
      "  [ 0.0435933  -0.03385031  0.03983606 ...  0.02988741  0.01416875\n",
      "    0.03464403]\n",
      "  [ 0.0435933  -0.03385031  0.03983606 ...  0.02988741  0.01416875\n",
      "    0.03464403]\n",
      "  [ 0.0435933  -0.03385031  0.03983606 ...  0.02988741  0.01416875\n",
      "    0.03464403]]]\n",
      "\n",
      "char_embed shape: (1, 289, 25)\n"
     ]
    }
   ],
   "source": [
    "#Test Character embedding layer\n",
    "print(f'Text characters before vectiorization: {random_train_chars}')\n",
    "char_embed_example = char_embed(char_vectorizer([random_train_chars]))\n",
    "print(f'Text character after vecotrization:\\n {char_embed_example}\\n')\n",
    "print(f'char_embed shape: {char_embed_example.shape}')"
   ]
  },
  {
   "cell_type": "markdown",
   "metadata": {
    "id": "S1-Jn5S1DzAw"
   },
   "source": [
    "### Build Conv1D model to fit on character embeddings"
   ]
  },
  {
   "cell_type": "code",
   "execution_count": 68,
   "metadata": {
    "id": "nW6hI3LNukKl"
   },
   "outputs": [],
   "source": [
    "#Make Conv1D on chars only\n",
    "inputs = layers.Input(shape=(1,), dtype=tf.string)\n",
    "char_vectors = char_vectorizer(inputs)\n",
    "char_embeddings = char_embed(char_vectors)\n",
    "x = layers.Conv1D(64, kernel_size=5,padding='same', activation='relu')(char_embeddings)\n",
    "x = layers.GlobalMaxPool1D()(x)\n",
    "outputs = layers.Dense(num_classes, activation='softmax')(x)\n",
    "\n",
    "model3 = tf.keras.Model(inputs, outputs,\n",
    "               name='model3_char_embedding_conv1d')\n",
    "\n",
    "model3.compile(loss='categorical_crossentropy',\n",
    "               optimizer= tf.keras.optimizers.Adam(),\n",
    "               metrics=['accuracy'])"
   ]
  },
  {
   "cell_type": "code",
   "execution_count": 69,
   "metadata": {
    "colab": {
     "base_uri": "https://localhost:8080/"
    },
    "id": "GzjOSATsE0CV",
    "outputId": "09b380a8-e770-48f5-d464-55435cce0cf1"
   },
   "outputs": [
    {
     "name": "stdout",
     "output_type": "stream",
     "text": [
      "Model: \"model3_char_embedding_conv1d\"\n",
      "_________________________________________________________________\n",
      " Layer (type)                Output Shape              Param #   \n",
      "=================================================================\n",
      " input_3 (InputLayer)        [(None, 1)]               0         \n",
      "                                                                 \n",
      " char_vectorizer (TextVector  (None, 289)              0         \n",
      " ization)                                                        \n",
      "                                                                 \n",
      " char_embed (Embedding)      (None, 289, 25)           700       \n",
      "                                                                 \n",
      " conv1d_1 (Conv1D)           (None, 289, 64)           8064      \n",
      "                                                                 \n",
      " global_max_pooling1d (Globa  (None, 64)               0         \n",
      " lMaxPooling1D)                                                  \n",
      "                                                                 \n",
      " dense_3 (Dense)             (None, 5)                 325       \n",
      "                                                                 \n",
      "=================================================================\n",
      "Total params: 9,089\n",
      "Trainable params: 9,089\n",
      "Non-trainable params: 0\n",
      "_________________________________________________________________\n"
     ]
    }
   ],
   "source": [
    "model3.summary()"
   ]
  },
  {
   "cell_type": "code",
   "execution_count": 70,
   "metadata": {
    "colab": {
     "base_uri": "https://localhost:8080/"
    },
    "id": "6Y5rcNnxGe3o",
    "outputId": "a3c8b4e6-541b-4a3e-ef8b-0a404682a982"
   },
   "outputs": [
    {
     "data": {
      "text/plain": [
       "<PrefetchDataset element_spec=(TensorSpec(shape=(None,), dtype=tf.string, name=None), TensorSpec(shape=(None, 5), dtype=tf.float64, name=None))>"
      ]
     },
     "execution_count": 70,
     "metadata": {},
     "output_type": "execute_result"
    }
   ],
   "source": [
    "# Create char-level datasets\n",
    "train_char_dataset = tf.data.Dataset.from_tensor_slices((train_chars, train_labels_one_hot)).batch(32).prefetch(tf.data.AUTOTUNE)\n",
    "val_char_dataset = tf.data.Dataset.from_tensor_slices((val_chars, val_labels_one_hot)).batch(32).prefetch(tf.data.AUTOTUNE)\n",
    "test_char_dataset = tf.data.Dataset.from_tensor_slices((test_chars, test_labels_one_hot)).batch(32).prefetch(tf.data.AUTOTUNE)\n",
    "\n",
    "train_char_dataset"
   ]
  },
  {
   "cell_type": "code",
   "execution_count": 71,
   "metadata": {
    "colab": {
     "base_uri": "https://localhost:8080/"
    },
    "id": "ANI8bEshIHvz",
    "outputId": "9a16e755-4686-4169-c573-b6d4fe9da24d"
   },
   "outputs": [
    {
     "name": "stdout",
     "output_type": "stream",
     "text": [
      "Epoch 1/3\n",
      "562/562 [==============================] - 4s 6ms/step - loss: 1.2503 - accuracy: 0.4895 - val_loss: 1.0390 - val_accuracy: 0.5785\n",
      "Epoch 2/3\n",
      "562/562 [==============================] - 3s 6ms/step - loss: 1.0101 - accuracy: 0.5958 - val_loss: 0.9386 - val_accuracy: 0.6333\n",
      "Epoch 3/3\n",
      "562/562 [==============================] - 3s 6ms/step - loss: 0.9310 - accuracy: 0.6357 - val_loss: 0.8703 - val_accuracy: 0.6636\n"
     ]
    }
   ],
   "source": [
    "model3_history = model3.fit(train_char_dataset,\n",
    "                            epochs=3,\n",
    "                            steps_per_epoch = int(0.1* len(train_char_dataset)),\n",
    "                            validation_data = val_char_dataset,\n",
    "                            validation_steps = int(0.1* len(val_char_dataset))\n",
    "                            )"
   ]
  },
  {
   "cell_type": "code",
   "execution_count": 72,
   "metadata": {
    "colab": {
     "base_uri": "https://localhost:8080/"
    },
    "id": "TZEKAJ-2I3yK",
    "outputId": "b82663b7-305b-453c-fcc2-2ad40ee4e91b"
   },
   "outputs": [
    {
     "data": {
      "text/plain": [
       "array([[0.10694952, 0.3171096 , 0.13429849, 0.4057761 , 0.03586632],\n",
       "       [0.21340056, 0.38809568, 0.01280854, 0.3504427 , 0.0352525 ],\n",
       "       [0.11092953, 0.3494761 , 0.0960571 , 0.37136328, 0.07217397],\n",
       "       ...,\n",
       "       [0.01960384, 0.01780817, 0.09545702, 0.02791664, 0.83921427],\n",
       "       [0.01539798, 0.08649106, 0.46902943, 0.03457112, 0.39451042],\n",
       "       [0.48738408, 0.35184106, 0.09737788, 0.05582593, 0.00757116]],\n",
       "      dtype=float32)"
      ]
     },
     "execution_count": 72,
     "metadata": {},
     "output_type": "execute_result"
    }
   ],
   "source": [
    "# Make predictions with character model only\n",
    "model3_pred_probs = model3.predict(val_char_dataset)\n",
    "model3_pred_probs"
   ]
  },
  {
   "cell_type": "code",
   "execution_count": 73,
   "metadata": {
    "colab": {
     "base_uri": "https://localhost:8080/"
    },
    "id": "HIrKyjFzJiPQ",
    "outputId": "fdc1649c-0c8c-4155-8b8d-f2abedfe23f1"
   },
   "outputs": [
    {
     "data": {
      "text/plain": [
       "<tf.Tensor: shape=(30212,), dtype=int64, numpy=array([3, 1, 3, ..., 4, 2, 0])>"
      ]
     },
     "execution_count": 73,
     "metadata": {},
     "output_type": "execute_result"
    }
   ],
   "source": [
    "# Convert prediction probabilities to class labels\n",
    "model3_preds = tf.argmax(model3_pred_probs, axis=1)\n",
    "model3_preds"
   ]
  },
  {
   "cell_type": "code",
   "execution_count": 74,
   "metadata": {
    "colab": {
     "base_uri": "https://localhost:8080/"
    },
    "id": "Ma0DgG5TJwHt",
    "outputId": "54d0d969-61da-4a52-873b-9d43a14d9b8d"
   },
   "outputs": [
    {
     "name": "stdout",
     "output_type": "stream",
     "text": [
      "0.6507017079306235\n",
      "0.6409664756538673\n",
      "[[ 898 1024  541  737  249]\n",
      " [ 411 2178  554  509  930]\n",
      " [ 194  297 8178  215 1080]\n",
      " [ 235  550  355 1083  153]\n",
      " [  88  578 1747  106 7322]]\n"
     ]
    }
   ],
   "source": [
    "# Calculate results\n",
    "print(accuracy_score(val_labels_encoded, model3_preds ))\n",
    "print(f1_score(val_labels_encoded, model3_preds, average='weighted'))\n",
    "print(confusion_matrix(val_labels_encoded, model3_preds))\n"
   ]
  },
  {
   "cell_type": "markdown",
   "metadata": {
    "id": "0Jk7KAWfe4XV"
   },
   "source": [
    "## Model4: Combining pretrained token embedding + characters embedding (hybrid)\n",
    "\n",
    "1. Token-level Embedding (similar to `model 2`)\n",
    "2. Character-level Embedding (similar to `model 3` with little modification)\n",
    "3. Combine 1 & 2 with a concatenate (`layers.concatenate`)\n",
    "4. Build a series of output layer on top of 3\n",
    "5. Construct a model which takes token and character-level embedding as input and sequences label probabilities as output "
   ]
  },
  {
   "cell_type": "code",
   "execution_count": 75,
   "metadata": {
    "id": "SCKW6GZ0J9K2"
   },
   "outputs": [],
   "source": [
    "#1. Setup token inputs /model\n",
    "\n",
    "token_inputs = layers.Input([], dtype=tf.string, name='token_input')\n",
    "token_embeddings = tf_hub_embedding_layer(token_inputs)\n",
    "token_outputs = layers.Dense(128, activation='relu')(token_embeddings)\n",
    "token_model = tf.keras.Model(inputs= token_inputs,\n",
    "               outputs= token_outputs)\n",
    "\n",
    "#2. Setup character inputs/model\n",
    "char_inputs = layers.Input(shape= (1,), dtype=tf.string, name='char_input')\n",
    "char_vectors = char_vectorizer(char_inputs)\n",
    "char_embeddings = char_embed(char_vectors)\n",
    "char_bi_lstm = layers.Bidirectional(layers.LSTM(24))(char_embeddings) #bi-LSTM \n",
    "\n",
    "char_model = tf.keras.Model(inputs = char_inputs,\n",
    "                            outputs = char_bi_lstm)\n",
    "\n",
    "#3. Concatenate token and char inputs (create hybrid token embeddings)\n",
    "token_char_concat = layers.Concatenate(name='token_char_hybrid')([token_model.output, \n",
    "                                                                    char_model.output])\n",
    "\n",
    "#4. Create output layers - Adding Dropout layer\n",
    "\n",
    "combined_dropout = layers.Dropout(0.5)(token_char_concat)\n",
    "combined_dense = layers.Dense(128, activation='relu')(combined_dropout)\n",
    "final_dropout = layers.Dropout(0.5)(combined_dense)\n",
    "output_layer = layers.Dense(num_classes, activation='softmax')(final_dropout)\n",
    "\n",
    "\n",
    "#5. Construct model with char and token inputs\n",
    "\n",
    "model4 = tf.keras.Model(inputs=[token_model.input, char_model.input],\n",
    "                        outputs=output_layer,\n",
    "                        name='model4_token_and_char_embeddings')\n",
    "\n"
   ]
  },
  {
   "cell_type": "code",
   "execution_count": 76,
   "metadata": {
    "colab": {
     "base_uri": "https://localhost:8080/"
    },
    "id": "PLD2PGSyAu7_",
    "outputId": "24387bdb-fd9e-44dd-eecd-dc4bd946f087"
   },
   "outputs": [
    {
     "name": "stdout",
     "output_type": "stream",
     "text": [
      "Model: \"model4_token_and_char_embeddings\"\n",
      "__________________________________________________________________________________________________\n",
      " Layer (type)                   Output Shape         Param #     Connected to                     \n",
      "==================================================================================================\n",
      " char_input (InputLayer)        [(None, 1)]          0           []                               \n",
      "                                                                                                  \n",
      " token_input (InputLayer)       [(None,)]            0           []                               \n",
      "                                                                                                  \n",
      " char_vectorizer (TextVectoriza  (None, 289)         0           ['char_input[0][0]']             \n",
      " tion)                                                                                            \n",
      "                                                                                                  \n",
      " universal_sentence_encoder (Ke  (None, 512)         256797824   ['token_input[0][0]']            \n",
      " rasLayer)                                                                                        \n",
      "                                                                                                  \n",
      " char_embed (Embedding)         (None, 289, 25)      700         ['char_vectorizer[1][0]']        \n",
      "                                                                                                  \n",
      " dense_4 (Dense)                (None, 128)          65664       ['universal_sentence_encoder[1][0\n",
      "                                                                 ]']                              \n",
      "                                                                                                  \n",
      " bidirectional (Bidirectional)  (None, 48)           9600        ['char_embed[1][0]']             \n",
      "                                                                                                  \n",
      " token_char_hybrid (Concatenate  (None, 176)         0           ['dense_4[0][0]',                \n",
      " )                                                                'bidirectional[0][0]']          \n",
      "                                                                                                  \n",
      " dropout (Dropout)              (None, 176)          0           ['token_char_hybrid[0][0]']      \n",
      "                                                                                                  \n",
      " dense_5 (Dense)                (None, 128)          22656       ['dropout[0][0]']                \n",
      "                                                                                                  \n",
      " dropout_1 (Dropout)            (None, 128)          0           ['dense_5[0][0]']                \n",
      "                                                                                                  \n",
      " dense_6 (Dense)                (None, 5)            645         ['dropout_1[0][0]']              \n",
      "                                                                                                  \n",
      "==================================================================================================\n",
      "Total params: 256,897,089\n",
      "Trainable params: 99,265\n",
      "Non-trainable params: 256,797,824\n",
      "__________________________________________________________________________________________________\n"
     ]
    }
   ],
   "source": [
    "# Get a summary of model4\n",
    "model4.summary()"
   ]
  },
  {
   "cell_type": "code",
   "execution_count": 77,
   "metadata": {
    "colab": {
     "base_uri": "https://localhost:8080/",
     "height": 856
    },
    "id": "vZmNHbh-BGcW",
    "outputId": "86dcba4b-93fd-4889-90e1-74ac9c5ed57d"
   },
   "outputs": [
    {
     "data": {
      "image/png": "[encoded data removed]",
      "text/plain": [
       "<IPython.core.display.Image object>"
      ]
     },
     "execution_count": 77,
     "metadata": {},
     "output_type": "execute_result"
    }
   ],
   "source": [
    "# Plot hybrid token and character model\n",
    "from tensorflow.keras.utils import plot_model\n",
    "plot_model(model4)"
   ]
  },
  {
   "cell_type": "code",
   "execution_count": 78,
   "metadata": {
    "id": "mIpslQ0CDGHv"
   },
   "outputs": [],
   "source": [
    "# Comiple model\n",
    "model4.compile(loss='categorical_crossentropy',\n",
    "               optimizer= tf.keras.optimizers.Adam(),\n",
    "               metrics=['accuracy'])"
   ]
  },
  {
   "cell_type": "markdown",
   "metadata": {
    "id": "ZUE2e1SKKdyt"
   },
   "source": [
    "### Combining token and character dataset  into a tf.data dataset"
   ]
  },
  {
   "cell_type": "code",
   "execution_count": 79,
   "metadata": {
    "id": "oUlFpbopI-Ju"
   },
   "outputs": [],
   "source": [
    "#Combine chars and tokens into dataset\n",
    "train_char_token_data = tf.data.Dataset.from_tensor_slices((train_sentences, train_chars)) # Make data\n",
    "train_char_token_labels = tf.data.Dataset.from_tensor_slices(train_labels_one_hot) #Make labels\n",
    "train_char_token_dataset = tf.data.Dataset.zip((train_char_token_data, train_char_token_labels))  #Combine data and labels\n",
    "\n",
    "#Prefetch and batch train dataset\n",
    "train_char_token_dataset= train_char_token_dataset.batch(32).prefetch(tf.data.AUTOTUNE)"
   ]
  },
  {
   "cell_type": "code",
   "execution_count": 80,
   "metadata": {
    "id": "RlU3rxMBf9Tt"
   },
   "outputs": [],
   "source": [
    "#Combine chars and tokens into dataset\n",
    "val_char_token_data = tf.data.Dataset.from_tensor_slices((val_sentences, val_chars)) # Make data\n",
    "val_char_token_labels = tf.data.Dataset.from_tensor_slices(val_labels_one_hot) #Make labels\n",
    "val_char_token_dataset = tf.data.Dataset.zip((val_char_token_data, val_char_token_labels))  #Combine data and labels\n",
    "\n",
    "#Prefetch and batch val dataset\n",
    "val_char_token_dataset= val_char_token_dataset.batch(32).prefetch(tf.data.AUTOTUNE)"
   ]
  },
  {
   "cell_type": "code",
   "execution_count": 81,
   "metadata": {
    "colab": {
     "base_uri": "https://localhost:8080/"
    },
    "id": "7dvbaSQYgWfI",
    "outputId": "d7f8c9c9-0e83-480e-cd26-75e369509355"
   },
   "outputs": [
    {
     "data": {
      "text/plain": [
       "(<PrefetchDataset element_spec=((TensorSpec(shape=(None,), dtype=tf.string, name=None), TensorSpec(shape=(None,), dtype=tf.string, name=None)), TensorSpec(shape=(None, 5), dtype=tf.float64, name=None))>,\n",
       " <PrefetchDataset element_spec=((TensorSpec(shape=(None,), dtype=tf.string, name=None), TensorSpec(shape=(None,), dtype=tf.string, name=None)), TensorSpec(shape=(None, 5), dtype=tf.float64, name=None))>)"
      ]
     },
     "execution_count": 81,
     "metadata": {},
     "output_type": "execute_result"
    }
   ],
   "source": [
    "#Check train char and token embedding dataset\n",
    "train_char_token_dataset, val_char_token_dataset"
   ]
  },
  {
   "cell_type": "markdown",
   "metadata": {
    "id": "jBSAOu9_Mn_5"
   },
   "source": [
    "### Fitting the model on token and character-level embeddings"
   ]
  },
  {
   "cell_type": "code",
   "execution_count": 82,
   "metadata": {
    "colab": {
     "base_uri": "https://localhost:8080/"
    },
    "id": "1581UA0Rgg6y",
    "outputId": "5fcb40d7-090d-4d77-8842-9ea1d2146e7f"
   },
   "outputs": [
    {
     "name": "stdout",
     "output_type": "stream",
     "text": [
      "Epoch 1/3\n",
      "562/562 [==============================] - 42s 58ms/step - loss: 0.9898 - accuracy: 0.6065 - val_loss: 0.7854 - val_accuracy: 0.6948\n",
      "Epoch 2/3\n",
      "562/562 [==============================] - 29s 51ms/step - loss: 0.8052 - accuracy: 0.6896 - val_loss: 0.7186 - val_accuracy: 0.7261\n",
      "Epoch 3/3\n",
      "562/562 [==============================] - 34s 61ms/step - loss: 0.7772 - accuracy: 0.7057 - val_loss: 0.6913 - val_accuracy: 0.7397\n"
     ]
    }
   ],
   "source": [
    "history_model4 = model4.fit(train_char_token_dataset,\n",
    "                            steps_per_epoch = int(0.1 * len(train_char_token_dataset)),\n",
    "                            epochs=3,\n",
    "                            validation_data = val_char_token_dataset,\n",
    "                            validation_steps= int(0.1 * len(val_char_token_dataset)))"
   ]
  },
  {
   "cell_type": "code",
   "execution_count": 83,
   "metadata": {
    "colab": {
     "base_uri": "https://localhost:8080/"
    },
    "id": "vp1PPmACA5rd",
    "outputId": "3d8fae0b-1600-4026-abbf-3c904e794c32"
   },
   "outputs": [
    {
     "name": "stdout",
     "output_type": "stream",
     "text": [
      "945/945 [==============================] - 37s 39ms/step - loss: 0.6968 - accuracy: 0.7358\n"
     ]
    },
    {
     "data": {
      "text/plain": [
       "[0.6967586874961853, 0.7357672452926636]"
      ]
     },
     "execution_count": 83,
     "metadata": {},
     "output_type": "execute_result"
    }
   ],
   "source": [
    "#Evaluate model on whole validation dataset\n",
    "model4.evaluate(val_char_token_dataset)"
   ]
  },
  {
   "cell_type": "code",
   "execution_count": 84,
   "metadata": {
    "colab": {
     "base_uri": "https://localhost:8080/"
    },
    "id": "V0OhJ_HVA_iC",
    "outputId": "d46724ee-3ba0-4f9f-f745-2e3e275bf9d1"
   },
   "outputs": [
    {
     "data": {
      "text/plain": [
       "array([[4.07879591e-01, 3.88982743e-01, 1.00308368e-02, 1.82834923e-01,\n",
       "        1.02718994e-02],\n",
       "       [3.50467741e-01, 4.75861847e-01, 7.31810229e-03, 1.63783759e-01,\n",
       "        2.56852829e-03],\n",
       "       [2.66983181e-01, 1.50938943e-01, 7.89309740e-02, 4.61312711e-01,\n",
       "        4.18340378e-02],\n",
       "       ...,\n",
       "       [1.35990593e-03, 1.13784131e-02, 5.59920371e-02, 3.99972923e-04,\n",
       "        9.30869639e-01],\n",
       "       [1.11461785e-02, 8.21119919e-02, 2.41234258e-01, 4.95079160e-03,\n",
       "        6.60556853e-01],\n",
       "       [3.45413953e-01, 3.49636734e-01, 2.37357229e-01, 3.34729552e-02,\n",
       "        3.41191553e-02]], dtype=float32)"
      ]
     },
     "execution_count": 84,
     "metadata": {},
     "output_type": "execute_result"
    }
   ],
   "source": [
    "#Make predictions using the token-character model\n",
    "model4_pred_probs = model4.predict(val_char_token_dataset)\n",
    "model4_pred_probs"
   ]
  },
  {
   "cell_type": "code",
   "execution_count": 85,
   "metadata": {
    "colab": {
     "base_uri": "https://localhost:8080/"
    },
    "id": "MktWtcQiBTJw",
    "outputId": "19ad3c29-f3d1-402f-dc94-8e697d589f6c"
   },
   "outputs": [
    {
     "data": {
      "text/plain": [
       "<tf.Tensor: shape=(30212,), dtype=int64, numpy=array([0, 1, 3, ..., 4, 4, 1])>"
      ]
     },
     "execution_count": 85,
     "metadata": {},
     "output_type": "execute_result"
    }
   ],
   "source": [
    "#Make labels from probabilities\n",
    "model4_preds = tf.argmax(model4_pred_probs, axis=1)\n",
    "model4_preds"
   ]
  },
  {
   "cell_type": "code",
   "execution_count": 86,
   "metadata": {
    "colab": {
     "base_uri": "https://localhost:8080/"
    },
    "id": "3jMVF9PTOP0t",
    "outputId": "f0e3cb67-d551-43be-bc12-f25b8adda1fe"
   },
   "outputs": [
    {
     "name": "stdout",
     "output_type": "stream",
     "text": [
      "0.7357672448033894\n",
      "0.7328374460020198\n",
      "[[1456 1111  268  524   90]\n",
      " [ 320 3208  296  130  628]\n",
      " [ 230  308 8253  142 1031]\n",
      " [ 359  418  198 1360   41]\n",
      " [  55  569 1226   39 7952]]\n"
     ]
    }
   ],
   "source": [
    "# Calculate results\n",
    "print(accuracy_score(val_labels_encoded, model4_preds ))\n",
    "print(f1_score(val_labels_encoded, model4_preds, average='weighted'))\n",
    "print(confusion_matrix(val_labels_encoded, model4_preds))"
   ]
  },
  {
   "cell_type": "markdown",
   "metadata": {
    "id": "BuyUt2MhGttE"
   },
   "source": [
    "##Model5: Transfer Learning with pretrained token embedding + Character embedding + Positional embedding"
   ]
  },
  {
   "cell_type": "code",
   "execution_count": 87,
   "metadata": {
    "colab": {
     "base_uri": "https://localhost:8080/",
     "height": 206
    },
    "id": "xYw3fY4EBvFy",
    "outputId": "ff5e8bd6-98eb-4ab7-c5d8-8e610ef7452a"
   },
   "outputs": [
    {
     "data": {
      "text/html": [
       "\n",
       "  <div id=\"df-9ff8aad0-676f-49a0-a6ee-1fdb7b68b34f\">\n",
       "    <div class=\"colab-df-container\">\n",
       "      <div>\n",
       "<style scoped>\n",
       "    .dataframe tbody tr th:only-of-type {\n",
       "        vertical-align: middle;\n",
       "    }\n",
       "\n",
       "    .dataframe tbody tr th {\n",
       "        vertical-align: top;\n",
       "    }\n",
       "\n",
       "    .dataframe thead th {\n",
       "        text-align: right;\n",
       "    }\n",
       "</style>\n",
       "<table border=\"1\" class=\"dataframe\">\n",
       "  <thead>\n",
       "    <tr style=\"text-align: right;\">\n",
       "      <th></th>\n",
       "      <th>line_number</th>\n",
       "      <th>target</th>\n",
       "      <th>text</th>\n",
       "      <th>total_lines</th>\n",
       "    </tr>\n",
       "  </thead>\n",
       "  <tbody>\n",
       "    <tr>\n",
       "      <th>0</th>\n",
       "      <td>0</td>\n",
       "      <td>OBJECTIVE</td>\n",
       "      <td>To investigate the efficacy of @ weeks of dail...</td>\n",
       "      <td>11</td>\n",
       "    </tr>\n",
       "    <tr>\n",
       "      <th>1</th>\n",
       "      <td>1</td>\n",
       "      <td>METHODS</td>\n",
       "      <td>A total of @ patients with primary knee OA wer...</td>\n",
       "      <td>11</td>\n",
       "    </tr>\n",
       "    <tr>\n",
       "      <th>2</th>\n",
       "      <td>2</td>\n",
       "      <td>METHODS</td>\n",
       "      <td>Outcome measures included pain reduction and i...</td>\n",
       "      <td>11</td>\n",
       "    </tr>\n",
       "    <tr>\n",
       "      <th>3</th>\n",
       "      <td>3</td>\n",
       "      <td>METHODS</td>\n",
       "      <td>Pain was assessed using the visual analog pain...</td>\n",
       "      <td>11</td>\n",
       "    </tr>\n",
       "    <tr>\n",
       "      <th>4</th>\n",
       "      <td>4</td>\n",
       "      <td>METHODS</td>\n",
       "      <td>Secondary outcome measures included the Wester...</td>\n",
       "      <td>11</td>\n",
       "    </tr>\n",
       "  </tbody>\n",
       "</table>\n",
       "</div>\n",
       "      <button class=\"colab-df-convert\" onclick=\"convertToInteractive('df-9ff8aad0-676f-49a0-a6ee-1fdb7b68b34f')\"\n",
       "              title=\"Convert this dataframe to an interactive table.\"\n",
       "              style=\"display:none;\">\n",
       "        \n",
       "  <svg xmlns=\"http://www.w3.org/2000/svg\" height=\"24px\"viewBox=\"0 0 24 24\"\n",
       "       width=\"24px\">\n",
       "    <path d=\"M0 0h24v24H0V0z\" fill=\"none\"/>\n",
       "    <path d=\"M18.56 5.44l.94 2.06.94-2.06 2.06-.94-2.06-.94-.94-2.06-.94 2.06-2.06.94zm-11 1L8.5 8.5l.94-2.06 2.06-.94-2.06-.94L8.5 2.5l-.94 2.06-2.06.94zm10 10l.94 2.06.94-2.06 2.06-.94-2.06-.94-.94-2.06-.94 2.06-2.06.94z\"/><path d=\"M17.41 7.96l-1.37-1.37c-.4-.4-.92-.59-1.43-.59-.52 0-1.04.2-1.43.59L10.3 9.45l-7.72 7.72c-.78.78-.78 2.05 0 2.83L4 21.41c.39.39.9.59 1.41.59.51 0 1.02-.2 1.41-.59l7.78-7.78 2.81-2.81c.8-.78.8-2.07 0-2.86zM5.41 20L4 18.59l7.72-7.72 1.47 1.35L5.41 20z\"/>\n",
       "  </svg>\n",
       "      </button>\n",
       "      \n",
       "  <style>\n",
       "    .colab-df-container {\n",
       "      display:flex;\n",
       "      flex-wrap:wrap;\n",
       "      gap: 12px;\n",
       "    }\n",
       "\n",
       "    .colab-df-convert {\n",
       "      background-color: #E8F0FE;\n",
       "      border: none;\n",
       "      border-radius: 50%;\n",
       "      cursor: pointer;\n",
       "      display: none;\n",
       "      fill: #1967D2;\n",
       "      height: 32px;\n",
       "      padding: 0 0 0 0;\n",
       "      width: 32px;\n",
       "    }\n",
       "\n",
       "    .colab-df-convert:hover {\n",
       "      background-color: #E2EBFA;\n",
       "      box-shadow: 0px 1px 2px rgba(60, 64, 67, 0.3), 0px 1px 3px 1px rgba(60, 64, 67, 0.15);\n",
       "      fill: #174EA6;\n",
       "    }\n",
       "\n",
       "    [theme=dark] .colab-df-convert {\n",
       "      background-color: #3B4455;\n",
       "      fill: #D2E3FC;\n",
       "    }\n",
       "\n",
       "    [theme=dark] .colab-df-convert:hover {\n",
       "      background-color: #434B5C;\n",
       "      box-shadow: 0px 1px 3px 1px rgba(0, 0, 0, 0.15);\n",
       "      filter: drop-shadow(0px 1px 2px rgba(0, 0, 0, 0.3));\n",
       "      fill: #FFFFFF;\n",
       "    }\n",
       "  </style>\n",
       "\n",
       "      <script>\n",
       "        const buttonEl =\n",
       "          document.querySelector('#df-9ff8aad0-676f-49a0-a6ee-1fdb7b68b34f button.colab-df-convert');\n",
       "        buttonEl.style.display =\n",
       "          google.colab.kernel.accessAllowed ? 'block' : 'none';\n",
       "\n",
       "        async function convertToInteractive(key) {\n",
       "          const element = document.querySelector('#df-9ff8aad0-676f-49a0-a6ee-1fdb7b68b34f');\n",
       "          const dataTable =\n",
       "            await google.colab.kernel.invokeFunction('convertToInteractive',\n",
       "                                                     [key], {});\n",
       "          if (!dataTable) return;\n",
       "\n",
       "          const docLinkHtml = 'Like what you see? Visit the ' +\n",
       "            '<a target=\"_blank\" href=https://colab.research.google.com/notebooks/data_table.ipynb>data table notebook</a>'\n",
       "            + ' to learn more about interactive tables.';\n",
       "          element.innerHTML = '';\n",
       "          dataTable['output_type'] = 'display_data';\n",
       "          await google.colab.output.renderOutput(dataTable, element);\n",
       "          const docLink = document.createElement('div');\n",
       "          docLink.innerHTML = docLinkHtml;\n",
       "          element.appendChild(docLink);\n",
       "        }\n",
       "      </script>\n",
       "    </div>\n",
       "  </div>\n",
       "  "
      ],
      "text/plain": [
       "   line_number     target                                               text  \\\n",
       "0            0  OBJECTIVE  To investigate the efficacy of @ weeks of dail...   \n",
       "1            1    METHODS  A total of @ patients with primary knee OA wer...   \n",
       "2            2    METHODS  Outcome measures included pain reduction and i...   \n",
       "3            3    METHODS  Pain was assessed using the visual analog pain...   \n",
       "4            4    METHODS  Secondary outcome measures included the Wester...   \n",
       "\n",
       "   total_lines  \n",
       "0           11  \n",
       "1           11  \n",
       "2           11  \n",
       "3           11  \n",
       "4           11  "
      ]
     },
     "execution_count": 87,
     "metadata": {},
     "output_type": "execute_result"
    }
   ],
   "source": [
    "train_df.head()"
   ]
  },
  {
   "cell_type": "markdown",
   "metadata": {
    "id": "lDthnwTIUEvq"
   },
   "source": [
    "### Create Positional Embeddings"
   ]
  },
  {
   "cell_type": "code",
   "execution_count": 88,
   "metadata": {
    "colab": {
     "base_uri": "https://localhost:8080/"
    },
    "id": "q19wfwJrHdyx",
    "outputId": "025b0a46-7a9f-4e11-a557-73dc3d28b6b3"
   },
   "outputs": [
    {
     "data": {
      "text/plain": [
       "0     15000\n",
       "1     15000\n",
       "2     15000\n",
       "3     15000\n",
       "4     14992\n",
       "5     14949\n",
       "6     14758\n",
       "7     14279\n",
       "8     13346\n",
       "9     11981\n",
       "10    10041\n",
       "11     7892\n",
       "12     5853\n",
       "13     4152\n",
       "14     2835\n",
       "15     1861\n",
       "16     1188\n",
       "17      751\n",
       "18      462\n",
       "19      286\n",
       "20      162\n",
       "21      101\n",
       "22       66\n",
       "23       33\n",
       "24       22\n",
       "25       14\n",
       "26        7\n",
       "27        4\n",
       "28        3\n",
       "29        1\n",
       "30        1\n",
       "Name: line_number, dtype: int64"
      ]
     },
     "execution_count": 88,
     "metadata": {},
     "output_type": "execute_result"
    }
   ],
   "source": [
    "# Number of different line numbers\n",
    "train_df['line_number'].value_counts()"
   ]
  },
  {
   "cell_type": "code",
   "execution_count": 89,
   "metadata": {
    "colab": {
     "base_uri": "https://localhost:8080/",
     "height": 282
    },
    "id": "cBwBSiWOUQ6Q",
    "outputId": "f6c003a1-3589-461d-a48b-1bb60af02546"
   },
   "outputs": [
    {
     "data": {
      "text/plain": [
       "<matplotlib.axes._subplots.AxesSubplot at 0x7f5149180990>"
      ]
     },
     "execution_count": 89,
     "metadata": {},
     "output_type": "execute_result"
    },
    {
     "data": {
      "image/png": "[encoded data removed]",
      "text/plain": [
       "<Figure size 432x288 with 1 Axes>"
      ]
     },
     "metadata": {
      "needs_background": "light"
     },
     "output_type": "display_data"
    }
   ],
   "source": [
    "#Check Distribution of 'line number' column\n",
    "train_df['line_number'].plot.hist()"
   ]
  },
  {
   "cell_type": "code",
   "execution_count": 90,
   "metadata": {
    "colab": {
     "base_uri": "https://localhost:8080/"
    },
    "id": "2FhJZS_CVQIf",
    "outputId": "8e9f629e-ecb4-468c-c885-0f023cde22e4"
   },
   "outputs": [
    {
     "data": {
      "text/plain": [
       "(<tf.Tensor: shape=(10, 15), dtype=float32, numpy=\n",
       " array([[1., 0., 0., 0., 0., 0., 0., 0., 0., 0., 0., 0., 0., 0., 0.],\n",
       "        [0., 1., 0., 0., 0., 0., 0., 0., 0., 0., 0., 0., 0., 0., 0.],\n",
       "        [0., 0., 1., 0., 0., 0., 0., 0., 0., 0., 0., 0., 0., 0., 0.],\n",
       "        [0., 0., 0., 1., 0., 0., 0., 0., 0., 0., 0., 0., 0., 0., 0.],\n",
       "        [0., 0., 0., 0., 1., 0., 0., 0., 0., 0., 0., 0., 0., 0., 0.],\n",
       "        [0., 0., 0., 0., 0., 1., 0., 0., 0., 0., 0., 0., 0., 0., 0.],\n",
       "        [0., 0., 0., 0., 0., 0., 1., 0., 0., 0., 0., 0., 0., 0., 0.],\n",
       "        [0., 0., 0., 0., 0., 0., 0., 1., 0., 0., 0., 0., 0., 0., 0.],\n",
       "        [0., 0., 0., 0., 0., 0., 0., 0., 1., 0., 0., 0., 0., 0., 0.],\n",
       "        [0., 0., 0., 0., 0., 0., 0., 0., 0., 1., 0., 0., 0., 0., 0.]],\n",
       "       dtype=float32)>, TensorShape([180040, 15]))"
      ]
     },
     "execution_count": 90,
     "metadata": {},
     "output_type": "execute_result"
    }
   ],
   "source": [
    "#Use TensorFlow to create one-hot encoded tensors of 'line_number' column\n",
    "train_line_numbers_one_hot = tf.one_hot(train_df['line_number'].to_numpy(), depth=15)\n",
    "val_line_numbers_one_hot = tf.one_hot(val_df['line_number'].to_numpy(), depth=15)\n",
    "test_line_numbers_one_hot = tf.one_hot(test_df['line_number'].to_numpy(), depth=15)\n",
    "\n",
    "\n",
    "train_line_numbers_one_hot[:10], train_line_numbers_one_hot.shape"
   ]
  },
  {
   "cell_type": "code",
   "execution_count": 91,
   "metadata": {
    "colab": {
     "base_uri": "https://localhost:8080/"
    },
    "id": "uqwiQso1XsPu",
    "outputId": "7f905452-9ae4-4f86-8f00-d8550e735dfa"
   },
   "outputs": [
    {
     "data": {
      "text/plain": [
       "11    24468\n",
       "10    23639\n",
       "12    22113\n",
       "9     19400\n",
       "13    18438\n",
       "14    14610\n",
       "8     12285\n",
       "15    10768\n",
       "7      7464\n",
       "16     7429\n",
       "17     5202\n",
       "6      3353\n",
       "18     3344\n",
       "19     2480\n",
       "20     1281\n",
       "5      1146\n",
       "21      770\n",
       "22      759\n",
       "23      264\n",
       "4       215\n",
       "24      200\n",
       "25      182\n",
       "26       81\n",
       "28       58\n",
       "3        32\n",
       "30       31\n",
       "27       28\n",
       "Name: total_lines, dtype: int64"
      ]
     },
     "execution_count": 91,
     "metadata": {},
     "output_type": "execute_result"
    }
   ],
   "source": [
    "#Number of different number of lines (length of abstract)\n",
    "train_df['total_lines'].value_counts()"
   ]
  },
  {
   "cell_type": "code",
   "execution_count": 92,
   "metadata": {
    "colab": {
     "base_uri": "https://localhost:8080/",
     "height": 284
    },
    "id": "CFgjuQ01aX9D",
    "outputId": "9fb7bef5-f736-4876-d559-de2dce33ca8c"
   },
   "outputs": [
    {
     "data": {
      "text/plain": [
       "<matplotlib.axes._subplots.AxesSubplot at 0x7f51491056d0>"
      ]
     },
     "execution_count": 92,
     "metadata": {},
     "output_type": "execute_result"
    },
    {
     "data": {
      "image/png": "[encoded data removed]",
      "text/plain": [
       "<Figure size 432x288 with 1 Axes>"
      ]
     },
     "metadata": {
      "needs_background": "light"
     },
     "output_type": "display_data"
    }
   ],
   "source": [
    "#Check distribution of 'total_lines'\n",
    "train_df['total_lines'].plot.hist()"
   ]
  },
  {
   "cell_type": "code",
   "execution_count": 93,
   "metadata": {
    "colab": {
     "base_uri": "https://localhost:8080/"
    },
    "id": "q7468VTvaw6E",
    "outputId": "33a9813c-afbe-46c7-a1ff-021a562cd417"
   },
   "outputs": [
    {
     "data": {
      "text/plain": [
       "20.0"
      ]
     },
     "execution_count": 93,
     "metadata": {},
     "output_type": "execute_result"
    }
   ],
   "source": [
    "#Check the coverage of 'total_lines' value of 20\n",
    "np.percentile(train_df['total_lines'], 98)"
   ]
  },
  {
   "cell_type": "code",
   "execution_count": 94,
   "metadata": {
    "colab": {
     "base_uri": "https://localhost:8080/"
    },
    "id": "yr92OGX2bSE0",
    "outputId": "f885116e-7918-4328-d4c4-4a61ac2d755f"
   },
   "outputs": [
    {
     "data": {
      "text/plain": [
       "(<tf.Tensor: shape=(10, 20), dtype=float32, numpy=\n",
       " array([[0., 0., 0., 0., 0., 0., 0., 0., 0., 0., 0., 1., 0., 0., 0., 0.,\n",
       "         0., 0., 0., 0.],\n",
       "        [0., 0., 0., 0., 0., 0., 0., 0., 0., 0., 0., 1., 0., 0., 0., 0.,\n",
       "         0., 0., 0., 0.],\n",
       "        [0., 0., 0., 0., 0., 0., 0., 0., 0., 0., 0., 1., 0., 0., 0., 0.,\n",
       "         0., 0., 0., 0.],\n",
       "        [0., 0., 0., 0., 0., 0., 0., 0., 0., 0., 0., 1., 0., 0., 0., 0.,\n",
       "         0., 0., 0., 0.],\n",
       "        [0., 0., 0., 0., 0., 0., 0., 0., 0., 0., 0., 1., 0., 0., 0., 0.,\n",
       "         0., 0., 0., 0.],\n",
       "        [0., 0., 0., 0., 0., 0., 0., 0., 0., 0., 0., 1., 0., 0., 0., 0.,\n",
       "         0., 0., 0., 0.],\n",
       "        [0., 0., 0., 0., 0., 0., 0., 0., 0., 0., 0., 1., 0., 0., 0., 0.,\n",
       "         0., 0., 0., 0.],\n",
       "        [0., 0., 0., 0., 0., 0., 0., 0., 0., 0., 0., 1., 0., 0., 0., 0.,\n",
       "         0., 0., 0., 0.],\n",
       "        [0., 0., 0., 0., 0., 0., 0., 0., 0., 0., 0., 1., 0., 0., 0., 0.,\n",
       "         0., 0., 0., 0.],\n",
       "        [0., 0., 0., 0., 0., 0., 0., 0., 0., 0., 0., 1., 0., 0., 0., 0.,\n",
       "         0., 0., 0., 0.]], dtype=float32)>, TensorShape([180040, 20]))"
      ]
     },
     "execution_count": 94,
     "metadata": {},
     "output_type": "execute_result"
    }
   ],
   "source": [
    "#Use TensorFlow to create one hot encoded tensors for 'total_lines' feature\n",
    "train_total_lines_one_hot = tf.one_hot(train_df['total_lines'].to_numpy(), depth=20)\n",
    "val_total_lines_one_hot = tf.one_hot(val_df['total_lines'].to_numpy(), depth=20)\n",
    "test_total_lines_one_hot = tf.one_hot(test_df['total_lines'].to_numpy(), depth=20)\n",
    "\n",
    "train_total_lines_one_hot[:10], train_total_lines_one_hot.shape"
   ]
  },
  {
   "cell_type": "code",
   "execution_count": 94,
   "metadata": {
    "id": "RWO-4JCjbvtW"
   },
   "outputs": [],
   "source": []
  },
  {
   "cell_type": "markdown",
   "metadata": {
    "id": "0-Qr5tyFx_d0"
   },
   "source": [
    "### Create Tribrid embedding model\n",
    "\n",
    "1. Create a token-level model\n",
    "2. Create a character-level model\n",
    "3. Create a model for 'line_number' feature\n",
    "4. Create a model for 'total_lines' feature\n",
    "5. Combine outputs of 1 & 2 using tf.keras.layers.Concatenate\n",
    "6. Combine outputs of 3, 4, & 5 using tf.keras.layers.Concatenate\n",
    "7. Create output layer to accept tribrid embeddings and output label probabilities\n",
    "8. Combine inputs 1,2,3,4 and outputs into tf.keras.Model "
   ]
  },
  {
   "cell_type": "code",
   "execution_count": 95,
   "metadata": {
    "id": "XmsLRhc2zfaz"
   },
   "outputs": [],
   "source": [
    "#1. Token Inputs\n",
    "token_inputs = layers.Input(shape=[], dtype=tf.string, name='token_inputs')\n",
    "token_embeddings = tf_hub_embedding_layer(token_inputs)\n",
    "token_outputs = layers.Dense(128, activation='relu')(token_embeddings)\n",
    "token_model = tf.keras.Model(inputs= token_inputs,\n",
    "               outputs= token_outputs)\n",
    "\n",
    "#2. Char inputs\n",
    "char_inputs = layers.Input(shape=(1,), dtype=tf.string, name='char_inputs')\n",
    "char_vectors = char_vectorizer(char_inputs)\n",
    "char_embeddings = char_embed(char_vectors)\n",
    "char_bi_lstm = layers.Bidirectional(layers.LSTM(24))(char_embeddings)\n",
    "char_model = tf.keras.Model(inputs= char_inputs,\n",
    "                            outputs=char_bi_lstm)\n",
    "\n",
    "#3. Line number model\n",
    "line_num_inputs = layers.Input(shape=(15,), dtype= tf.float32, name='line_num_inputs')\n",
    "line_num_outputs = layers.Dense(32, activation='relu')(line_num_inputs)\n",
    "line_num_model = tf.keras.Model(inputs=line_num_inputs,\n",
    "               outputs=line_num_outputs)\n",
    "\n",
    "#4. Total lines model\n",
    "total_lines_inputs = layers.Input(shape=(20,), dtype= tf.float32, name='total_lines_inputs')\n",
    "total_lines_outputs = layers.Dense(32, activation='relu')(total_lines_inputs)\n",
    "total_lines_model = tf.keras.Model(inputs= total_lines_inputs,\n",
    "                                   outputs= total_lines_outputs)\n",
    "\n",
    "#5. Combine token and char embeddings into a hybrid embeddings\n",
    "combined_embeddings = layers.Concatenate(name='char_token_hybrid_embedding')([token_model.output, char_model.output])\n",
    "\n",
    "z = layers.Dense(256, activation='relu')(combined_embeddings)\n",
    "z = layers.Dropout(0.5)(z)\n",
    "\n",
    "#6. Combine positional embeddings with combined token and char embeddings\n",
    "tribrid_embeddings = layers.Concatenate(name='char_token_postional_embedding')([line_num_model.output,\n",
    "                                                                               total_lines_model.output,\n",
    "                                                                                z])\n",
    "\n",
    "#7. Create output layer\n",
    "output_layer = layers.Dense(num_classes, activation='softmax', name='output_layer')(tribrid_embeddings)\n",
    "\n",
    "#8. Put together model with all kind of inputs\n",
    "model5 = tf.keras.Model(inputs=[line_num_model.input, \n",
    "                                total_lines_model.input, \n",
    "                                token_model.input,\n",
    "                                char_model.input],\n",
    "                        outputs= output_layer,\n",
    "                        name= 'model5_tribrid_embedding_model')"
   ]
  },
  {
   "cell_type": "code",
   "execution_count": 96,
   "metadata": {
    "colab": {
     "base_uri": "https://localhost:8080/"
    },
    "id": "_4i9lJ9o8lr1",
    "outputId": "834ffba8-525b-464f-f3ca-32f6483579d2"
   },
   "outputs": [
    {
     "name": "stdout",
     "output_type": "stream",
     "text": [
      "Model: \"model5_tribrid_embedding_model\"\n",
      "__________________________________________________________________________________________________\n",
      " Layer (type)                   Output Shape         Param #     Connected to                     \n",
      "==================================================================================================\n",
      " char_inputs (InputLayer)       [(None, 1)]          0           []                               \n",
      "                                                                                                  \n",
      " token_inputs (InputLayer)      [(None,)]            0           []                               \n",
      "                                                                                                  \n",
      " char_vectorizer (TextVectoriza  (None, 289)         0           ['char_inputs[0][0]']            \n",
      " tion)                                                                                            \n",
      "                                                                                                  \n",
      " universal_sentence_encoder (Ke  (None, 512)         256797824   ['token_inputs[0][0]']           \n",
      " rasLayer)                                                                                        \n",
      "                                                                                                  \n",
      " char_embed (Embedding)         (None, 289, 25)      700         ['char_vectorizer[2][0]']        \n",
      "                                                                                                  \n",
      " dense_7 (Dense)                (None, 128)          65664       ['universal_sentence_encoder[2][0\n",
      "                                                                 ]']                              \n",
      "                                                                                                  \n",
      " bidirectional_1 (Bidirectional  (None, 48)          9600        ['char_embed[2][0]']             \n",
      " )                                                                                                \n",
      "                                                                                                  \n",
      " char_token_hybrid_embedding (C  (None, 176)         0           ['dense_7[0][0]',                \n",
      " oncatenate)                                                      'bidirectional_1[0][0]']        \n",
      "                                                                                                  \n",
      " line_num_inputs (InputLayer)   [(None, 15)]         0           []                               \n",
      "                                                                                                  \n",
      " total_lines_inputs (InputLayer  [(None, 20)]        0           []                               \n",
      " )                                                                                                \n",
      "                                                                                                  \n",
      " dense_10 (Dense)               (None, 256)          45312       ['char_token_hybrid_embedding[0][\n",
      "                                                                 0]']                             \n",
      "                                                                                                  \n",
      " dense_8 (Dense)                (None, 32)           512         ['line_num_inputs[0][0]']        \n",
      "                                                                                                  \n",
      " dense_9 (Dense)                (None, 32)           672         ['total_lines_inputs[0][0]']     \n",
      "                                                                                                  \n",
      " dropout_2 (Dropout)            (None, 256)          0           ['dense_10[0][0]']               \n",
      "                                                                                                  \n",
      " char_token_postional_embedding  (None, 320)         0           ['dense_8[0][0]',                \n",
      "  (Concatenate)                                                   'dense_9[0][0]',                \n",
      "                                                                  'dropout_2[0][0]']              \n",
      "                                                                                                  \n",
      " output_layer (Dense)           (None, 5)            1605        ['char_token_postional_embedding[\n",
      "                                                                 0][0]']                          \n",
      "                                                                                                  \n",
      "==================================================================================================\n",
      "Total params: 256,921,889\n",
      "Trainable params: 124,065\n",
      "Non-trainable params: 256,797,824\n",
      "__________________________________________________________________________________________________\n"
     ]
    }
   ],
   "source": [
    "# Get the summary of Tribird embedding model\n",
    "model5.summary()"
   ]
  },
  {
   "cell_type": "code",
   "execution_count": 97,
   "metadata": {
    "colab": {
     "base_uri": "https://localhost:8080/",
     "height": 856
    },
    "id": "2KONUMDW9X57",
    "outputId": "b0887bd8-72e7-4f11-9372-899c6361e621"
   },
   "outputs": [
    {
     "data": {
      "image/png": "[encoded data removed]",
      "text/plain": [
       "<IPython.core.display.Image object>"
      ]
     },
     "execution_count": 97,
     "metadata": {},
     "output_type": "execute_result"
    }
   ],
   "source": [
    "plot_model(model5)"
   ]
  },
  {
   "cell_type": "code",
   "execution_count": 98,
   "metadata": {
    "id": "IGi0jP1O9k2V"
   },
   "outputs": [],
   "source": [
    "# Compile token char positional embedding model\n",
    "\n",
    "model5.compile(loss=tf.keras.losses.CategoricalCrossentropy(label_smoothing=0.3), #label_smoothing helps to prevent overfitting\n",
    "               optimizer= tf.keras.optimizers.Adam(),\n",
    "               metrics=['accuracy'])"
   ]
  },
  {
   "cell_type": "code",
   "execution_count": 99,
   "metadata": {
    "colab": {
     "base_uri": "https://localhost:8080/"
    },
    "id": "ZqggTMMSKzLo",
    "outputId": "4ff60d17-d246-42fc-d875-0f569de571fb"
   },
   "outputs": [
    {
     "data": {
      "text/plain": [
       "<PrefetchDataset element_spec=((TensorSpec(shape=(None, 15), dtype=tf.float32, name=None), TensorSpec(shape=(None, 20), dtype=tf.float32, name=None), TensorSpec(shape=(None,), dtype=tf.string, name=None), TensorSpec(shape=(None,), dtype=tf.string, name=None)), TensorSpec(shape=(None, 5), dtype=tf.float64, name=None))>"
      ]
     },
     "execution_count": 99,
     "metadata": {},
     "output_type": "execute_result"
    }
   ],
   "source": [
    "# Create tribrid embedding dataset using tf.data\n",
    "\n",
    "train_char_token_pos_data = tf.data.Dataset.from_tensor_slices((train_line_numbers_one_hot,\n",
    "                                                             train_total_lines_one_hot,\n",
    "                                                            train_sentences, train_chars)) # Make data\n",
    "\n",
    "train_char_token_pos_labels = tf.data.Dataset.from_tensor_slices(train_labels_one_hot)\n",
    "train_char_token_pos_dataset = tf.data.Dataset.zip((train_char_token_pos_data, train_char_token_pos_labels))                                                           \n",
    "\n",
    "#Prefetch and batch train dataset\n",
    "train_char_token_pos_dataset= train_char_token_pos_dataset.batch(32).prefetch(tf.data.AUTOTUNE)\n",
    "\n",
    "train_char_token_pos_dataset"
   ]
  },
  {
   "cell_type": "code",
   "execution_count": 100,
   "metadata": {
    "colab": {
     "base_uri": "https://localhost:8080/"
    },
    "id": "V_qXocfbL86Q",
    "outputId": "7d6a4bbe-48bb-469c-fc2b-ed03256ba72c"
   },
   "outputs": [
    {
     "data": {
      "text/plain": [
       "<PrefetchDataset element_spec=((TensorSpec(shape=(None, 15), dtype=tf.float32, name=None), TensorSpec(shape=(None, 20), dtype=tf.float32, name=None), TensorSpec(shape=(None,), dtype=tf.string, name=None), TensorSpec(shape=(None,), dtype=tf.string, name=None)), TensorSpec(shape=(None, 5), dtype=tf.float64, name=None))>"
      ]
     },
     "execution_count": 100,
     "metadata": {},
     "output_type": "execute_result"
    }
   ],
   "source": [
    "# Do the same as above for the validation dataset\n",
    "val_char_token_pos_data = tf.data.Dataset.from_tensor_slices((val_line_numbers_one_hot,\n",
    "                                                             val_total_lines_one_hot,\n",
    "                                                            val_sentences, val_chars)) # Make data\n",
    "\n",
    "val_char_token_pos_labels = tf.data.Dataset.from_tensor_slices(val_labels_one_hot)\n",
    "val_char_token_pos_dataset = tf.data.Dataset.zip((val_char_token_pos_data, val_char_token_pos_labels))                                                           \n",
    "\n",
    "#Prefetch and batch train dataset\n",
    "val_char_token_pos_dataset= val_char_token_pos_dataset.batch(32).prefetch(tf.data.AUTOTUNE)\n",
    "\n",
    "val_char_token_pos_dataset\n"
   ]
  },
  {
   "cell_type": "markdown",
   "metadata": {
    "id": "V9ZQ9f-7P0gr"
   },
   "source": [
    "### Fitting and evaluating tribrid model "
   ]
  },
  {
   "cell_type": "code",
   "execution_count": 101,
   "metadata": {
    "colab": {
     "base_uri": "https://localhost:8080/"
    },
    "id": "cIkpIDrvOOno",
    "outputId": "7724cfce-c597-43d0-c0e8-35e5ecf44fed"
   },
   "outputs": [
    {
     "name": "stdout",
     "output_type": "stream",
     "text": [
      "Epoch 1/3\n",
      "562/562 [==============================] - 68s 95ms/step - loss: 1.2185 - accuracy: 0.7259 - val_loss: 1.1343 - val_accuracy: 0.8072\n",
      "Epoch 2/3\n",
      "562/562 [==============================] - 44s 78ms/step - loss: 1.1235 - accuracy: 0.8171 - val_loss: 1.1108 - val_accuracy: 0.8258\n",
      "Epoch 3/3\n",
      "562/562 [==============================] - 28s 49ms/step - loss: 1.1113 - accuracy: 0.8234 - val_loss: 1.1008 - val_accuracy: 0.8311\n"
     ]
    }
   ],
   "source": [
    "history_model5 = model5.fit(train_char_token_pos_dataset,\n",
    "                            steps_per_epoch = int(0.1 * len(train_char_token_pos_dataset)),\n",
    "                            epochs=3,\n",
    "                            validation_data = val_char_token_pos_dataset,\n",
    "                            validation_steps= int(0.1 * len(val_char_token_pos_dataset)))"
   ]
  },
  {
   "cell_type": "code",
   "execution_count": 102,
   "metadata": {
    "colab": {
     "base_uri": "https://localhost:8080/"
    },
    "id": "_3wx0sPFQixU",
    "outputId": "70fa9c32-23a5-4662-ea19-a0de087137b2"
   },
   "outputs": [
    {
     "name": "stdout",
     "output_type": "stream",
     "text": [
      "945/945 [==============================] - 25s 27ms/step - loss: 1.0998 - accuracy: 0.8326\n"
     ]
    },
    {
     "data": {
      "text/plain": [
       "[1.0998198986053467, 0.832649290561676]"
      ]
     },
     "execution_count": 102,
     "metadata": {},
     "output_type": "execute_result"
    }
   ],
   "source": [
    "#Evaluate model5\n",
    "model5.evaluate(val_char_token_pos_dataset)"
   ]
  },
  {
   "cell_type": "code",
   "execution_count": 103,
   "metadata": {
    "colab": {
     "base_uri": "https://localhost:8080/"
    },
    "id": "7j0jvkZwQ4kN",
    "outputId": "9aa742c1-ec0b-42fa-e731-306d97962ef5"
   },
   "outputs": [
    {
     "data": {
      "text/plain": [
       "array([[0.49293494, 0.14734788, 0.0258083 , 0.30228952, 0.03161933],\n",
       "       [0.47516906, 0.13722494, 0.07215965, 0.29098025, 0.02446603],\n",
       "       [0.26032665, 0.13693555, 0.1824296 , 0.32194474, 0.0983635 ],\n",
       "       ...,\n",
       "       [0.05201695, 0.12198702, 0.05743237, 0.04776781, 0.72079587],\n",
       "       [0.04412271, 0.3200669 , 0.10274816, 0.04354412, 0.48951808],\n",
       "       [0.25146574, 0.48899502, 0.12186047, 0.06026236, 0.07741636]],\n",
       "      dtype=float32)"
      ]
     },
     "execution_count": 103,
     "metadata": {},
     "output_type": "execute_result"
    }
   ],
   "source": [
    "model5_pred_probs = model5.predict(val_char_token_pos_dataset)\n",
    "model5_pred_probs"
   ]
  },
  {
   "cell_type": "code",
   "execution_count": 104,
   "metadata": {
    "colab": {
     "base_uri": "https://localhost:8080/"
    },
    "id": "DldsW4YaQ_KA",
    "outputId": "da27efb0-08f8-4acd-9cf0-5ac36eb2332e"
   },
   "outputs": [
    {
     "data": {
      "text/plain": [
       "<tf.Tensor: shape=(30212,), dtype=int64, numpy=array([0, 0, 3, ..., 4, 4, 1])>"
      ]
     },
     "execution_count": 104,
     "metadata": {},
     "output_type": "execute_result"
    }
   ],
   "source": [
    "model5_preds = tf.argmax(model5_pred_probs, axis=1)\n",
    "model5_preds"
   ]
  },
  {
   "cell_type": "code",
   "execution_count": 105,
   "metadata": {
    "colab": {
     "base_uri": "https://localhost:8080/"
    },
    "id": "zVC8eQdWRFCE",
    "outputId": "0d114c5e-b64d-4745-9634-cd159c78a699"
   },
   "outputs": [
    {
     "name": "stdout",
     "output_type": "stream",
     "text": [
      "0.832649278432411\n",
      "0.8314190385035823\n",
      "[[2575   91  287  486   10]\n",
      " [  69 3862   49    0  602]\n",
      " [ 121  255 8775   46  767]\n",
      " [ 826    6  160 1381    3]\n",
      " [  13  552  711    2 8563]]\n"
     ]
    }
   ],
   "source": [
    "# Calculate results\n",
    "print(accuracy_score(val_labels_encoded, model5_preds ))\n",
    "print(f1_score(val_labels_encoded, model5_preds, average='weighted'))\n",
    "print(confusion_matrix(val_labels_encoded, model5_preds))"
   ]
  },
  {
   "cell_type": "code",
   "execution_count": 106,
   "metadata": {
    "id": "TSDqq0x8hh_W"
   },
   "outputs": [],
   "source": [
    "## Compare model results\n",
    "\n",
    "def calculate_results(actual, pred):\n",
    "  acc = accuracy_score(actual, pred )\n",
    "  f1 =  f1_score(actual, pred, average='weighted')\n",
    "  pre = precision_score(actual, pred, average='weighted')\n",
    "  recall = recall_score(actual, pred, average='weighted')\n",
    "  return acc, f1, pre, recall"
   ]
  },
  {
   "cell_type": "code",
   "execution_count": 107,
   "metadata": {
    "colab": {
     "base_uri": "https://localhost:8080/",
     "height": 237
    },
    "id": "8yRrjLYXiHTw",
    "outputId": "f1677b86-e76b-4b12-926d-15984e9d05d9"
   },
   "outputs": [
    {
     "data": {
      "text/html": [
       "\n",
       "  <div id=\"df-79694ddc-13f7-4438-807c-83aaaca993b2\">\n",
       "    <div class=\"colab-df-container\">\n",
       "      <div>\n",
       "<style scoped>\n",
       "    .dataframe tbody tr th:only-of-type {\n",
       "        vertical-align: middle;\n",
       "    }\n",
       "\n",
       "    .dataframe tbody tr th {\n",
       "        vertical-align: top;\n",
       "    }\n",
       "\n",
       "    .dataframe thead th {\n",
       "        text-align: right;\n",
       "    }\n",
       "</style>\n",
       "<table border=\"1\" class=\"dataframe\">\n",
       "  <thead>\n",
       "    <tr style=\"text-align: right;\">\n",
       "      <th></th>\n",
       "      <th>Accuracy</th>\n",
       "      <th>f1_score</th>\n",
       "      <th>Precision</th>\n",
       "      <th>Recall</th>\n",
       "    </tr>\n",
       "  </thead>\n",
       "  <tbody>\n",
       "    <tr>\n",
       "      <th>Baseline_model0</th>\n",
       "      <td>0.747981</td>\n",
       "      <td>0.739013</td>\n",
       "      <td>0.740950</td>\n",
       "      <td>0.747981</td>\n",
       "    </tr>\n",
       "    <tr>\n",
       "      <th>model1_custom_token_embeddings</th>\n",
       "      <td>0.789124</td>\n",
       "      <td>0.786916</td>\n",
       "      <td>0.786680</td>\n",
       "      <td>0.789124</td>\n",
       "    </tr>\n",
       "    <tr>\n",
       "      <th>model2_pretrained_token_embeddings</th>\n",
       "      <td>0.715676</td>\n",
       "      <td>0.712768</td>\n",
       "      <td>0.716467</td>\n",
       "      <td>0.715676</td>\n",
       "    </tr>\n",
       "    <tr>\n",
       "      <th>model3_custom_char_embeddings</th>\n",
       "      <td>0.650702</td>\n",
       "      <td>0.640966</td>\n",
       "      <td>0.641800</td>\n",
       "      <td>0.650702</td>\n",
       "    </tr>\n",
       "    <tr>\n",
       "      <th>model4_hybrid_char_token_embeddings</th>\n",
       "      <td>0.735767</td>\n",
       "      <td>0.732837</td>\n",
       "      <td>0.735738</td>\n",
       "      <td>0.735767</td>\n",
       "    </tr>\n",
       "    <tr>\n",
       "      <th>model5_char_token_pos_embeddings</th>\n",
       "      <td>0.832649</td>\n",
       "      <td>0.831419</td>\n",
       "      <td>0.831565</td>\n",
       "      <td>0.832649</td>\n",
       "    </tr>\n",
       "  </tbody>\n",
       "</table>\n",
       "</div>\n",
       "      <button class=\"colab-df-convert\" onclick=\"convertToInteractive('df-79694ddc-13f7-4438-807c-83aaaca993b2')\"\n",
       "              title=\"Convert this dataframe to an interactive table.\"\n",
       "              style=\"display:none;\">\n",
       "        \n",
       "  <svg xmlns=\"http://www.w3.org/2000/svg\" height=\"24px\"viewBox=\"0 0 24 24\"\n",
       "       width=\"24px\">\n",
       "    <path d=\"M0 0h24v24H0V0z\" fill=\"none\"/>\n",
       "    <path d=\"M18.56 5.44l.94 2.06.94-2.06 2.06-.94-2.06-.94-.94-2.06-.94 2.06-2.06.94zm-11 1L8.5 8.5l.94-2.06 2.06-.94-2.06-.94L8.5 2.5l-.94 2.06-2.06.94zm10 10l.94 2.06.94-2.06 2.06-.94-2.06-.94-.94-2.06-.94 2.06-2.06.94z\"/><path d=\"M17.41 7.96l-1.37-1.37c-.4-.4-.92-.59-1.43-.59-.52 0-1.04.2-1.43.59L10.3 9.45l-7.72 7.72c-.78.78-.78 2.05 0 2.83L4 21.41c.39.39.9.59 1.41.59.51 0 1.02-.2 1.41-.59l7.78-7.78 2.81-2.81c.8-.78.8-2.07 0-2.86zM5.41 20L4 18.59l7.72-7.72 1.47 1.35L5.41 20z\"/>\n",
       "  </svg>\n",
       "      </button>\n",
       "      \n",
       "  <style>\n",
       "    .colab-df-container {\n",
       "      display:flex;\n",
       "      flex-wrap:wrap;\n",
       "      gap: 12px;\n",
       "    }\n",
       "\n",
       "    .colab-df-convert {\n",
       "      background-color: #E8F0FE;\n",
       "      border: none;\n",
       "      border-radius: 50%;\n",
       "      cursor: pointer;\n",
       "      display: none;\n",
       "      fill: #1967D2;\n",
       "      height: 32px;\n",
       "      padding: 0 0 0 0;\n",
       "      width: 32px;\n",
       "    }\n",
       "\n",
       "    .colab-df-convert:hover {\n",
       "      background-color: #E2EBFA;\n",
       "      box-shadow: 0px 1px 2px rgba(60, 64, 67, 0.3), 0px 1px 3px 1px rgba(60, 64, 67, 0.15);\n",
       "      fill: #174EA6;\n",
       "    }\n",
       "\n",
       "    [theme=dark] .colab-df-convert {\n",
       "      background-color: #3B4455;\n",
       "      fill: #D2E3FC;\n",
       "    }\n",
       "\n",
       "    [theme=dark] .colab-df-convert:hover {\n",
       "      background-color: #434B5C;\n",
       "      box-shadow: 0px 1px 3px 1px rgba(0, 0, 0, 0.15);\n",
       "      filter: drop-shadow(0px 1px 2px rgba(0, 0, 0, 0.3));\n",
       "      fill: #FFFFFF;\n",
       "    }\n",
       "  </style>\n",
       "\n",
       "      <script>\n",
       "        const buttonEl =\n",
       "          document.querySelector('#df-79694ddc-13f7-4438-807c-83aaaca993b2 button.colab-df-convert');\n",
       "        buttonEl.style.display =\n",
       "          google.colab.kernel.accessAllowed ? 'block' : 'none';\n",
       "\n",
       "        async function convertToInteractive(key) {\n",
       "          const element = document.querySelector('#df-79694ddc-13f7-4438-807c-83aaaca993b2');\n",
       "          const dataTable =\n",
       "            await google.colab.kernel.invokeFunction('convertToInteractive',\n",
       "                                                     [key], {});\n",
       "          if (!dataTable) return;\n",
       "\n",
       "          const docLinkHtml = 'Like what you see? Visit the ' +\n",
       "            '<a target=\"_blank\" href=https://colab.research.google.com/notebooks/data_table.ipynb>data table notebook</a>'\n",
       "            + ' to learn more about interactive tables.';\n",
       "          element.innerHTML = '';\n",
       "          dataTable['output_type'] = 'display_data';\n",
       "          await google.colab.output.renderOutput(dataTable, element);\n",
       "          const docLink = document.createElement('div');\n",
       "          docLink.innerHTML = docLinkHtml;\n",
       "          element.appendChild(docLink);\n",
       "        }\n",
       "      </script>\n",
       "    </div>\n",
       "  </div>\n",
       "  "
      ],
      "text/plain": [
       "                                     Accuracy  f1_score  Precision    Recall\n",
       "Baseline_model0                      0.747981  0.739013   0.740950  0.747981\n",
       "model1_custom_token_embeddings       0.789124  0.786916   0.786680  0.789124\n",
       "model2_pretrained_token_embeddings   0.715676  0.712768   0.716467  0.715676\n",
       "model3_custom_char_embeddings        0.650702  0.640966   0.641800  0.650702\n",
       "model4_hybrid_char_token_embeddings  0.735767  0.732837   0.735738  0.735767\n",
       "model5_char_token_pos_embeddings     0.832649  0.831419   0.831565  0.832649"
      ]
     },
     "execution_count": 107,
     "metadata": {},
     "output_type": "execute_result"
    }
   ],
   "source": [
    "\n",
    "model0_results = calculate_results(val_labels_encoded, baseline_preds )\n",
    "\n",
    "model1_results = calculate_results(val_labels_encoded, model1_preds )\n",
    "\n",
    "model2_results = calculate_results(val_labels_encoded, model2_preds )\n",
    "\n",
    "model3_results = calculate_results(val_labels_encoded, model3_preds )\n",
    "\n",
    "model4_results = calculate_results(val_labels_encoded, model4_preds )\n",
    "\n",
    "model5_results = calculate_results(val_labels_encoded, model5_preds )\n",
    "\n",
    "results = pd.DataFrame({'Baseline_model0': model0_results,\n",
    "             'model1_custom_token_embeddings': model1_results,\n",
    "              'model2_pretrained_token_embeddings':model2_results,\n",
    "              'model3_custom_char_embeddings':model3_results,\n",
    "              'model4_hybrid_char_token_embeddings':model4_results,\n",
    "              'model5_char_token_pos_embeddings': model5_results}, ['Accuracy','f1_score','Precision','Recall']).T\n",
    "results"
   ]
  },
  {
   "cell_type": "code",
   "execution_count": 108,
   "metadata": {
    "colab": {
     "base_uri": "https://localhost:8080/",
     "height": 582
    },
    "id": "LXfjXEe6RmGP",
    "outputId": "75c8b0bc-ab6d-48c6-fae0-24240cb1ff41"
   },
   "outputs": [
    {
     "data": {
      "text/plain": [
       "<matplotlib.axes._subplots.AxesSubplot at 0x7f502b18ef50>"
      ]
     },
     "execution_count": 108,
     "metadata": {},
     "output_type": "execute_result"
    },
    {
     "data": {
      "image/png": "[encoded data removed]",
      "text/plain": [
       "<Figure size 720x432 with 1 Axes>"
      ]
     },
     "metadata": {
      "needs_background": "light"
     },
     "output_type": "display_data"
    }
   ],
   "source": [
    "results.sort_values(by='f1_score')['f1_score'].plot(kind='bar', figsize=(10,6))"
   ]
  },
  {
   "cell_type": "markdown",
   "metadata": {
    "id": "O0osQNEI3hG1"
   },
   "source": [
    "## Save and load Model"
   ]
  },
  {
   "cell_type": "code",
   "execution_count": 109,
   "metadata": {
    "colab": {
     "base_uri": "https://localhost:8080/"
    },
    "id": "VrqYi9gN3fU_",
    "outputId": "80788cb5-355b-4e6d-c353-4bfbb1fea932"
   },
   "outputs": [
    {
     "name": "stderr",
     "output_type": "stream",
     "text": [
      "WARNING:absl:Found untraced functions such as lstm_cell_4_layer_call_fn, lstm_cell_4_layer_call_and_return_conditional_losses, lstm_cell_5_layer_call_fn, lstm_cell_5_layer_call_and_return_conditional_losses while saving (showing 4 of 4). These functions will not be directly callable after loading.\n"
     ]
    },
    {
     "name": "stdout",
     "output_type": "stream",
     "text": [
      "INFO:tensorflow:Assets written to: skimlit_tribrid/assets\n"
     ]
    },
    {
     "name": "stderr",
     "output_type": "stream",
     "text": [
      "INFO:tensorflow:Assets written to: skimlit_tribrid/assets\n",
      "WARNING:absl:<keras.layers.recurrent.LSTMCell object at 0x7f5149020c10> has the same name 'LSTMCell' as a built-in Keras object. Consider renaming <class 'keras.layers.recurrent.LSTMCell'> to avoid naming conflicts when loading with `tf.keras.models.load_model`. If renaming is not possible, pass the object in the `custom_objects` parameter of the load function.\n",
      "WARNING:absl:<keras.layers.recurrent.LSTMCell object at 0x7f5149028810> has the same name 'LSTMCell' as a built-in Keras object. Consider renaming <class 'keras.layers.recurrent.LSTMCell'> to avoid naming conflicts when loading with `tf.keras.models.load_model`. If renaming is not possible, pass the object in the `custom_objects` parameter of the load function.\n"
     ]
    }
   ],
   "source": [
    "#Save the best performing model\n",
    "model5.save('skimlit_tribrid')"
   ]
  },
  {
   "cell_type": "code",
   "execution_count": 111,
   "metadata": {
    "id": "pULPmz4MJ0Dv"
   },
   "outputs": [],
   "source": [
    "#Load the same model\n",
    "loaded_model = tf.keras.models.load_model('skimlit_tribrid')"
   ]
  },
  {
   "cell_type": "code",
   "execution_count": 112,
   "metadata": {
    "colab": {
     "base_uri": "https://localhost:8080/"
    },
    "id": "1AVcGQ6mKj4q",
    "outputId": "417f74d8-ee40-4b7c-a91b-1aa219d5e369"
   },
   "outputs": [
    {
     "data": {
      "text/plain": [
       "<tf.Tensor: shape=(10,), dtype=int64, numpy=array([0, 0, 3, 2, 2, 4, 4, 4, 4, 1])>"
      ]
     },
     "execution_count": 112,
     "metadata": {},
     "output_type": "execute_result"
    }
   ],
   "source": [
    "#Make predictions with loaded model\n",
    "loaded_pred_probs = loaded_model.predict(val_char_token_pos_dataset)\n",
    "loaded_preds = tf.argmax(loaded_pred_probs, axis=1)\n",
    "loaded_preds[:10]"
   ]
  },
  {
   "cell_type": "code",
   "execution_count": 113,
   "metadata": {
    "colab": {
     "base_uri": "https://localhost:8080/"
    },
    "id": "TDVKfjM8LDjR",
    "outputId": "c9fe1ab8-d1ef-4d1d-d068-17b9aa46a8ca"
   },
   "outputs": [
    {
     "data": {
      "text/plain": [
       "(0.832649278432411, 0.8314190385035823, 0.831564740952276, 0.832649278432411)"
      ]
     },
     "execution_count": 113,
     "metadata": {},
     "output_type": "execute_result"
    }
   ],
   "source": [
    "calculate_results(val_labels_encoded, loaded_preds)"
   ]
  },
  {
   "cell_type": "code",
   "execution_count": 114,
   "metadata": {
    "colab": {
     "base_uri": "https://localhost:8080/"
    },
    "id": "Uj9ABUXqm67K",
    "outputId": "67ceefff-4c94-4e38-d6c1-ba4427732184"
   },
   "outputs": [
    {
     "data": {
      "text/plain": [
       "(0.832649278432411, 0.8314190385035823, 0.831564740952276, 0.832649278432411)"
      ]
     },
     "execution_count": 114,
     "metadata": {},
     "output_type": "execute_result"
    }
   ],
   "source": [
    "model5_results"
   ]
  },
  {
   "cell_type": "code",
   "execution_count": 115,
   "metadata": {
    "colab": {
     "base_uri": "https://localhost:8080/"
    },
    "id": "pXRSA9uiMWbr",
    "outputId": "980f9501-b8dc-445e-f513-fce654edefbc"
   },
   "outputs": [
    {
     "name": "stdout",
     "output_type": "stream",
     "text": [
      "Model: \"model5_tribrid_embedding_model\"\n",
      "__________________________________________________________________________________________________\n",
      " Layer (type)                   Output Shape         Param #     Connected to                     \n",
      "==================================================================================================\n",
      " char_inputs (InputLayer)       [(None, 1)]          0           []                               \n",
      "                                                                                                  \n",
      " token_inputs (InputLayer)      [(None,)]            0           []                               \n",
      "                                                                                                  \n",
      " char_vectorizer (TextVectoriza  (None, 289)         0           ['char_inputs[0][0]']            \n",
      " tion)                                                                                            \n",
      "                                                                                                  \n",
      " universal_sentence_encoder (Ke  (None, 512)         256797824   ['token_inputs[0][0]']           \n",
      " rasLayer)                                                                                        \n",
      "                                                                                                  \n",
      " char_embed (Embedding)         (None, 289, 25)      700         ['char_vectorizer[0][0]']        \n",
      "                                                                                                  \n",
      " dense_7 (Dense)                (None, 128)          65664       ['universal_sentence_encoder[0][0\n",
      "                                                                 ]']                              \n",
      "                                                                                                  \n",
      " bidirectional_1 (Bidirectional  (None, 48)          9600        ['char_embed[0][0]']             \n",
      " )                                                                                                \n",
      "                                                                                                  \n",
      " char_token_hybrid_embedding (C  (None, 176)         0           ['dense_7[0][0]',                \n",
      " oncatenate)                                                      'bidirectional_1[0][0]']        \n",
      "                                                                                                  \n",
      " line_num_inputs (InputLayer)   [(None, 15)]         0           []                               \n",
      "                                                                                                  \n",
      " total_lines_inputs (InputLayer  [(None, 20)]        0           []                               \n",
      " )                                                                                                \n",
      "                                                                                                  \n",
      " dense_10 (Dense)               (None, 256)          45312       ['char_token_hybrid_embedding[0][\n",
      "                                                                 0]']                             \n",
      "                                                                                                  \n",
      " dense_8 (Dense)                (None, 32)           512         ['line_num_inputs[0][0]']        \n",
      "                                                                                                  \n",
      " dense_9 (Dense)                (None, 32)           672         ['total_lines_inputs[0][0]']     \n",
      "                                                                                                  \n",
      " dropout_2 (Dropout)            (None, 256)          0           ['dense_10[0][0]']               \n",
      "                                                                                                  \n",
      " char_token_postional_embedding  (None, 320)         0           ['dense_8[0][0]',                \n",
      "  (Concatenate)                                                   'dense_9[0][0]',                \n",
      "                                                                  'dropout_2[0][0]']              \n",
      "                                                                                                  \n",
      " output_layer (Dense)           (None, 5)            1605        ['char_token_postional_embedding[\n",
      "                                                                 0][0]']                          \n",
      "                                                                                                  \n",
      "==================================================================================================\n",
      "Total params: 256,921,889\n",
      "Trainable params: 124,065\n",
      "Non-trainable params: 256,797,824\n",
      "__________________________________________________________________________________________________\n"
     ]
    }
   ],
   "source": [
    "loaded_model.summary()"
   ]
  }
 ],
 "metadata": {
  "accelerator": "GPU",
  "colab": {
   "collapsed_sections": [],
   "name": "skimlit_nlp.ipynb",
   "provenance": [],
   "toc_visible": true
  },
  "gpuClass": "standard",
  "kernelspec": {
   "display_name": "Python 3 (ipykernel)",
   "language": "python",
   "name": "python3"
  },
  "language_info": {
   "codemirror_mode": {
    "name": "ipython",
    "version": 3
   },
   "file_extension": ".py",
   "mimetype": "text/x-python",
   "name": "python",
   "nbconvert_exporter": "python",
   "pygments_lexer": "ipython3",
   "version": "3.9.12"
  }
 },
 "nbformat": 4,
 "nbformat_minor": 1
}
